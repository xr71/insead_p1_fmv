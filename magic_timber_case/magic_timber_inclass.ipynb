{
 "cells": [
  {
   "cell_type": "code",
   "execution_count": 2,
   "metadata": {},
   "outputs": [],
   "source": [
    "import pandas as pd\n",
    "import numpy as np\n",
    "import matplotlib.pyplot as plt"
   ]
  },
  {
   "cell_type": "code",
   "execution_count": 3,
   "metadata": {},
   "outputs": [],
   "source": [
    "# options\n",
    "# reinvigorating the existing machine\n",
    "# buying new machine\n",
    "\n",
    "# FREE cash flow = independent of financing"
   ]
  },
  {
   "cell_type": "code",
   "execution_count": 4,
   "metadata": {},
   "outputs": [],
   "source": [
    "k = 0.11"
   ]
  },
  {
   "cell_type": "code",
   "execution_count": 22,
   "metadata": {},
   "outputs": [],
   "source": [
    "df_proj_1 = pd.DataFrame({\n",
    "    \"SQ_Repair\": [28000, 0, 0, 0, 0, 0],\n",
    "    \"SQ_Maintenance\": [0,7000,7000,11000,7000,7000],\n",
    "    \"DeltaLabor\": [0,5250,5500,5750,6000,6250],\n",
    "    \"DeltaElectricity\": [0,4725,4800,4875,4950,5025],\n",
    "    \"SQ_Depr\": [0,6000,6000,6000,6000,6000],\n",
    "    \"NM_Maintenance\": [0,2000,3000,4000,5000,6000],\n",
    "    \"NM_Depr\": [0,14000,14000,14000,14000,14000]\n",
    "}, index=[2015,2016,2017,2018,2019,2020])"
   ]
  },
  {
   "cell_type": "code",
   "execution_count": 23,
   "metadata": {},
   "outputs": [
    {
     "data": {
      "text/html": [
       "<div>\n",
       "<style scoped>\n",
       "    .dataframe tbody tr th:only-of-type {\n",
       "        vertical-align: middle;\n",
       "    }\n",
       "\n",
       "    .dataframe tbody tr th {\n",
       "        vertical-align: top;\n",
       "    }\n",
       "\n",
       "    .dataframe thead th {\n",
       "        text-align: right;\n",
       "    }\n",
       "</style>\n",
       "<table border=\"1\" class=\"dataframe\">\n",
       "  <thead>\n",
       "    <tr style=\"text-align: right;\">\n",
       "      <th></th>\n",
       "      <th>SQ_Repair</th>\n",
       "      <th>SQ_Maintenance</th>\n",
       "      <th>DeltaLabor</th>\n",
       "      <th>DeltaElectricity</th>\n",
       "      <th>SQ_Depr</th>\n",
       "      <th>NM_Maintenance</th>\n",
       "      <th>NM_Depr</th>\n",
       "    </tr>\n",
       "  </thead>\n",
       "  <tbody>\n",
       "    <tr>\n",
       "      <td>2015</td>\n",
       "      <td>28000</td>\n",
       "      <td>0</td>\n",
       "      <td>0</td>\n",
       "      <td>0</td>\n",
       "      <td>0</td>\n",
       "      <td>0</td>\n",
       "      <td>0</td>\n",
       "    </tr>\n",
       "    <tr>\n",
       "      <td>2016</td>\n",
       "      <td>0</td>\n",
       "      <td>7000</td>\n",
       "      <td>5250</td>\n",
       "      <td>4725</td>\n",
       "      <td>6000</td>\n",
       "      <td>2000</td>\n",
       "      <td>14000</td>\n",
       "    </tr>\n",
       "    <tr>\n",
       "      <td>2017</td>\n",
       "      <td>0</td>\n",
       "      <td>7000</td>\n",
       "      <td>5500</td>\n",
       "      <td>4800</td>\n",
       "      <td>6000</td>\n",
       "      <td>3000</td>\n",
       "      <td>14000</td>\n",
       "    </tr>\n",
       "    <tr>\n",
       "      <td>2018</td>\n",
       "      <td>0</td>\n",
       "      <td>11000</td>\n",
       "      <td>5750</td>\n",
       "      <td>4875</td>\n",
       "      <td>6000</td>\n",
       "      <td>4000</td>\n",
       "      <td>14000</td>\n",
       "    </tr>\n",
       "    <tr>\n",
       "      <td>2019</td>\n",
       "      <td>0</td>\n",
       "      <td>7000</td>\n",
       "      <td>6000</td>\n",
       "      <td>4950</td>\n",
       "      <td>6000</td>\n",
       "      <td>5000</td>\n",
       "      <td>14000</td>\n",
       "    </tr>\n",
       "    <tr>\n",
       "      <td>2020</td>\n",
       "      <td>0</td>\n",
       "      <td>7000</td>\n",
       "      <td>6250</td>\n",
       "      <td>5025</td>\n",
       "      <td>6000</td>\n",
       "      <td>6000</td>\n",
       "      <td>14000</td>\n",
       "    </tr>\n",
       "  </tbody>\n",
       "</table>\n",
       "</div>"
      ],
      "text/plain": [
       "      SQ_Repair  SQ_Maintenance  DeltaLabor  DeltaElectricity  SQ_Depr  \\\n",
       "2015      28000               0           0                 0        0   \n",
       "2016          0            7000        5250              4725     6000   \n",
       "2017          0            7000        5500              4800     6000   \n",
       "2018          0           11000        5750              4875     6000   \n",
       "2019          0            7000        6000              4950     6000   \n",
       "2020          0            7000        6250              5025     6000   \n",
       "\n",
       "      NM_Maintenance  NM_Depr  \n",
       "2015               0        0  \n",
       "2016            2000    14000  \n",
       "2017            3000    14000  \n",
       "2018            4000    14000  \n",
       "2019            5000    14000  \n",
       "2020            6000    14000  "
      ]
     },
     "execution_count": 23,
     "metadata": {},
     "output_type": "execute_result"
    }
   ],
   "source": [
    "df_proj_1"
   ]
  },
  {
   "cell_type": "code",
   "execution_count": 24,
   "metadata": {},
   "outputs": [],
   "source": [
    "# consider the firm and the bank (creditor) together"
   ]
  },
  {
   "cell_type": "code",
   "execution_count": 26,
   "metadata": {},
   "outputs": [
    {
     "data": {
      "text/plain": [
       "105000.0"
      ]
     },
     "execution_count": 26,
     "metadata": {},
     "output_type": "execute_result"
    }
   ],
   "source": [
    "inc_capex_2015 = 140000 - 35000 - (35000-35000)*.3\n",
    "inc_capex_2015"
   ]
  },
  {
   "cell_type": "code",
   "execution_count": 28,
   "metadata": {},
   "outputs": [
    {
     "data": {
      "text/plain": [
       "-58000.0"
      ]
     },
     "execution_count": 28,
     "metadata": {},
     "output_type": "execute_result"
    }
   ],
   "source": [
    "# book value is 70000\n",
    "# you will receive a tax benefit\n",
    "# book value of old machine 5000\n",
    "\n",
    "inc_capex_2020 = 60000 - (60000-70000)*.3\n",
    "inc_capex_2020 = 5000 - inc_capex_2020\n",
    "inc_capex_2020"
   ]
  },
  {
   "cell_type": "code",
   "execution_count": null,
   "metadata": {},
   "outputs": [],
   "source": []
  }
 ],
 "metadata": {
  "kernelspec": {
   "display_name": "Python 3",
   "language": "python",
   "name": "python3"
  },
  "language_info": {
   "codemirror_mode": {
    "name": "ipython",
    "version": 3
   },
   "file_extension": ".py",
   "mimetype": "text/x-python",
   "name": "python",
   "nbconvert_exporter": "python",
   "pygments_lexer": "ipython3",
   "version": "3.7.3"
  }
 },
 "nbformat": 4,
 "nbformat_minor": 2
}
