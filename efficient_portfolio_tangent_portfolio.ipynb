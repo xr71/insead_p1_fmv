{
  "cells": [
    {
      "cell_type": "code",
      "source": [
        "import pandas as pd\n",
        "import numpy as np\n",
        "import math\n",
        "import matplotlib.pyplot as plt\n",
        "import seaborn as sns"
      ],
      "outputs": [],
      "execution_count": 1,
      "metadata": {
        "collapsed": false,
        "outputHidden": false,
        "inputHidden": false
      }
    },
    {
      "cell_type": "code",
      "source": [
        "x = np.arange(-1, 1.1, .1, dtype=float)\n",
        "y = np.array([1-i for i in x], dtype=float)\n",
        "stock_a = 0.1\n",
        "stock_a_risk = 0.1\n",
        "stock_b = 0.14\n",
        "stock_b_risk = 0.14\n",
        "riskfree_p = 0.04\n"
      ],
      "outputs": [],
      "execution_count": 2,
      "metadata": {
        "collapsed": false,
        "outputHidden": false,
        "inputHidden": false
      }
    },
    {
      "cell_type": "code",
      "source": [
        "market_df = pd.DataFrame({\"stock_A\": stock_a, \"stock_B\": stock_b, \"risk_A\": stock_a_risk, \"risk_B\": stock_b_risk}, index=[0])"
      ],
      "outputs": [],
      "execution_count": 3,
      "metadata": {
        "collapsed": false,
        "outputHidden": false,
        "inputHidden": false
      }
    },
    {
      "cell_type": "code",
      "source": [
        "market_df"
      ],
      "outputs": [
        {
          "output_type": "execute_result",
          "execution_count": 4,
          "data": {
            "text/plain": [
              "   stock_A  stock_B  risk_A  risk_B\n",
              "0      0.1     0.14     0.1    0.14"
            ],
            "text/html": [
              "<div>\n",
              "<style scoped>\n",
              "    .dataframe tbody tr th:only-of-type {\n",
              "        vertical-align: middle;\n",
              "    }\n",
              "\n",
              "    .dataframe tbody tr th {\n",
              "        vertical-align: top;\n",
              "    }\n",
              "\n",
              "    .dataframe thead th {\n",
              "        text-align: right;\n",
              "    }\n",
              "</style>\n",
              "<table border=\"1\" class=\"dataframe\">\n",
              "  <thead>\n",
              "    <tr style=\"text-align: right;\">\n",
              "      <th></th>\n",
              "      <th>stock_A</th>\n",
              "      <th>stock_B</th>\n",
              "      <th>risk_A</th>\n",
              "      <th>risk_B</th>\n",
              "    </tr>\n",
              "  </thead>\n",
              "  <tbody>\n",
              "    <tr>\n",
              "      <td>0</td>\n",
              "      <td>0.1</td>\n",
              "      <td>0.14</td>\n",
              "      <td>0.1</td>\n",
              "      <td>0.14</td>\n",
              "    </tr>\n",
              "  </tbody>\n",
              "</table>\n",
              "</div>"
            ]
          },
          "metadata": {}
        }
      ],
      "execution_count": 4,
      "metadata": {
        "collapsed": false,
        "outputHidden": false,
        "inputHidden": false
      }
    },
    {
      "cell_type": "code",
      "source": [
        "#set number of runs of random portfolio weights\n",
        "num_portfolios = 250\n",
        "\n",
        "#set up array to hold results\n",
        "results = np.zeros((num_portfolios,4))\n",
        "\n",
        "corr = 0.4\n",
        "\n",
        "for i in range(num_portfolios):\n",
        "    #select random weights for portfolio holdings\n",
        "    weights = np.random.random(2)\n",
        "    \n",
        "    #rebalance weights to sum to 1\n",
        "    weights /= np.sum(weights)\n",
        "    \n",
        "    #calculate portfolio return and volatility\n",
        "    portfolio_return = weights[0]*stock_a + weights[1]*stock_b\n",
        "    \n",
        "    portfolio_std_dev = np.sqrt(\n",
        "        weights[0]**2*stock_a_risk**2 + weights[1]**2*stock_b_risk**2 + weights[0]*weights[1]*2*stock_a_risk*stock_b_risk*corr\n",
        "    ) \n",
        "    \n",
        "    #store results in results array\n",
        "    results[i,0] = weights[0]\n",
        "    results[i,1] = weights[1]\n",
        "    results[i,2] = portfolio_return\n",
        "    results[i,3] = portfolio_std_dev\n",
        "    \n"
      ],
      "outputs": [],
      "execution_count": 5,
      "metadata": {
        "collapsed": false,
        "outputHidden": false,
        "inputHidden": false
      }
    },
    {
      "cell_type": "code",
      "source": [
        "results_frame = pd.DataFrame(results, columns=[\"weight_A\", \"weight_B\", \"combined_return\", \"combined_volatility\"])"
      ],
      "outputs": [],
      "execution_count": 6,
      "metadata": {
        "collapsed": false,
        "outputHidden": false,
        "inputHidden": false
      }
    },
    {
      "cell_type": "code",
      "source": [
        "plt.scatter(results_frame.combined_volatility,results_frame.combined_return,c=results_frame.weight_A,cmap='RdYlBu')\n",
        "plt.colorbar()"
      ],
      "outputs": [
        {
          "output_type": "execute_result",
          "execution_count": 7,
          "data": {
            "text/plain": [
              "<matplotlib.colorbar.Colorbar at 0x1a1e9cc470>"
            ]
          },
          "metadata": {}
        },
        {
          "output_type": "display_data",
          "data": {
            "text/plain": [
              "<Figure size 432x288 with 2 Axes>"
            ],
            "image/png": "[encoded data removed]"
          },
          "metadata": {
            "needs_background": "light"
          }
        }
      ],
      "execution_count": 7,
      "metadata": {
        "collapsed": false,
        "outputHidden": false,
        "inputHidden": false
      }
    },
    {
      "cell_type": "code",
      "source": [
        "results_frame.loc[(results_frame.weight_A <= 0.51) & (results_frame.weight_B <= 0.51)]"
      ],
      "outputs": [
        {
          "output_type": "execute_result",
          "execution_count": 8,
          "data": {
            "text/plain": [
              "    weight_A  weight_B  combined_return  combined_volatility\n",
              "36  0.503404  0.496596         0.119864             0.100834\n",
              "46  0.509897  0.490103         0.119604             0.100533\n",
              "52  0.506987  0.493013         0.119721             0.100667\n",
              "90  0.494195  0.505805         0.120232             0.101274"
            ],
            "text/html": [
              "<div>\n",
              "<style scoped>\n",
              "    .dataframe tbody tr th:only-of-type {\n",
              "        vertical-align: middle;\n",
              "    }\n",
              "\n",
              "    .dataframe tbody tr th {\n",
              "        vertical-align: top;\n",
              "    }\n",
              "\n",
              "    .dataframe thead th {\n",
              "        text-align: right;\n",
              "    }\n",
              "</style>\n",
              "<table border=\"1\" class=\"dataframe\">\n",
              "  <thead>\n",
              "    <tr style=\"text-align: right;\">\n",
              "      <th></th>\n",
              "      <th>weight_A</th>\n",
              "      <th>weight_B</th>\n",
              "      <th>combined_return</th>\n",
              "      <th>combined_volatility</th>\n",
              "    </tr>\n",
              "  </thead>\n",
              "  <tbody>\n",
              "    <tr>\n",
              "      <td>36</td>\n",
              "      <td>0.503404</td>\n",
              "      <td>0.496596</td>\n",
              "      <td>0.119864</td>\n",
              "      <td>0.100834</td>\n",
              "    </tr>\n",
              "    <tr>\n",
              "      <td>46</td>\n",
              "      <td>0.509897</td>\n",
              "      <td>0.490103</td>\n",
              "      <td>0.119604</td>\n",
              "      <td>0.100533</td>\n",
              "    </tr>\n",
              "    <tr>\n",
              "      <td>52</td>\n",
              "      <td>0.506987</td>\n",
              "      <td>0.493013</td>\n",
              "      <td>0.119721</td>\n",
              "      <td>0.100667</td>\n",
              "    </tr>\n",
              "    <tr>\n",
              "      <td>90</td>\n",
              "      <td>0.494195</td>\n",
              "      <td>0.505805</td>\n",
              "      <td>0.120232</td>\n",
              "      <td>0.101274</td>\n",
              "    </tr>\n",
              "  </tbody>\n",
              "</table>\n",
              "</div>"
            ]
          },
          "metadata": {}
        }
      ],
      "execution_count": 8,
      "metadata": {
        "collapsed": false,
        "outputHidden": false,
        "inputHidden": false
      }
    },
    {
      "cell_type": "code",
      "source": [
        "plt.scatter(results_frame.weight_A, results_frame.weight_B, c=results_frame.combined_return,cmap='RdYlBu')\n",
        "plt.colorbar()"
      ],
      "outputs": [
        {
          "output_type": "execute_result",
          "execution_count": 9,
          "data": {
            "text/plain": [
              "<matplotlib.colorbar.Colorbar at 0x1a1ea9cd30>"
            ]
          },
          "metadata": {}
        },
        {
          "output_type": "display_data",
          "data": {
            "text/plain": [
              "<Figure size 432x288 with 2 Axes>"
            ],
            "image/png": "[encoded data removed]"
          },
          "metadata": {
            "needs_background": "light"
          }
        }
      ],
      "execution_count": 9,
      "metadata": {
        "collapsed": false,
        "outputHidden": false,
        "inputHidden": false
      }
    },
    {
      "cell_type": "code",
      "source": [
        "tangent_p = pd.DataFrame({\"market_weight\": y, \"riskfree_weight\": x})"
      ],
      "outputs": [],
      "execution_count": 10,
      "metadata": {
        "collapsed": false,
        "outputHidden": false,
        "inputHidden": false
      }
    },
    {
      "cell_type": "code",
      "source": [
        "tangent_p[\"riskfree_rate\"] = riskfree_p"
      ],
      "outputs": [],
      "execution_count": 11,
      "metadata": {
        "collapsed": false,
        "outputHidden": false,
        "inputHidden": false
      }
    },
    {
      "cell_type": "code",
      "source": [
        "tangent_p[\"market_rate\"] = 0.120025\n",
        "tangent_p[\"market_risk\"] = 0.101025"
      ],
      "outputs": [],
      "execution_count": 12,
      "metadata": {
        "collapsed": false,
        "outputHidden": false,
        "inputHidden": false
      }
    },
    {
      "cell_type": "code",
      "source": [
        "tangent_p[\"combined_return\"] = tangent_p.apply(lambda row: row.market_rate * row.market_weight + row.riskfree_weight * row.riskfree_rate, axis=1)"
      ],
      "outputs": [],
      "execution_count": 13,
      "metadata": {
        "collapsed": false,
        "outputHidden": false,
        "inputHidden": false
      }
    },
    {
      "cell_type": "code",
      "source": [
        "tangent_p[\"combined_risk\"] = tangent_p.apply(lambda row: math.sqrt(row.market_weight**2*row.market_risk**2), axis=1)"
      ],
      "outputs": [],
      "execution_count": 14,
      "metadata": {
        "collapsed": false,
        "outputHidden": false,
        "inputHidden": false
      }
    },
    {
      "cell_type": "code",
      "source": [
        "tangent_p"
      ],
      "outputs": [
        {
          "output_type": "execute_result",
          "execution_count": 15,
          "data": {
            "text/plain": [
              "    market_weight  riskfree_weight  riskfree_rate  market_rate  market_risk  \\\n",
              "0    2.000000e+00    -1.000000e+00           0.04     0.120025     0.101025   \n",
              "1    1.900000e+00    -9.000000e-01           0.04     0.120025     0.101025   \n",
              "2    1.800000e+00    -8.000000e-01           0.04     0.120025     0.101025   \n",
              "3    1.700000e+00    -7.000000e-01           0.04     0.120025     0.101025   \n",
              "4    1.600000e+00    -6.000000e-01           0.04     0.120025     0.101025   \n",
              "5    1.500000e+00    -5.000000e-01           0.04     0.120025     0.101025   \n",
              "6    1.400000e+00    -4.000000e-01           0.04     0.120025     0.101025   \n",
              "7    1.300000e+00    -3.000000e-01           0.04     0.120025     0.101025   \n",
              "8    1.200000e+00    -2.000000e-01           0.04     0.120025     0.101025   \n",
              "9    1.100000e+00    -1.000000e-01           0.04     0.120025     0.101025   \n",
              "10   1.000000e+00    -2.220446e-16           0.04     0.120025     0.101025   \n",
              "11   9.000000e-01     1.000000e-01           0.04     0.120025     0.101025   \n",
              "12   8.000000e-01     2.000000e-01           0.04     0.120025     0.101025   \n",
              "13   7.000000e-01     3.000000e-01           0.04     0.120025     0.101025   \n",
              "14   6.000000e-01     4.000000e-01           0.04     0.120025     0.101025   \n",
              "15   5.000000e-01     5.000000e-01           0.04     0.120025     0.101025   \n",
              "16   4.000000e-01     6.000000e-01           0.04     0.120025     0.101025   \n",
              "17   3.000000e-01     7.000000e-01           0.04     0.120025     0.101025   \n",
              "18   2.000000e-01     8.000000e-01           0.04     0.120025     0.101025   \n",
              "19   1.000000e-01     9.000000e-01           0.04     0.120025     0.101025   \n",
              "20   4.440892e-16     1.000000e+00           0.04     0.120025     0.101025   \n",
              "\n",
              "    combined_return  combined_risk  \n",
              "0          0.200050   2.020500e-01  \n",
              "1          0.192048   1.919475e-01  \n",
              "2          0.184045   1.818450e-01  \n",
              "3          0.176043   1.717425e-01  \n",
              "4          0.168040   1.616400e-01  \n",
              "5          0.160037   1.515375e-01  \n",
              "6          0.152035   1.414350e-01  \n",
              "7          0.144033   1.313325e-01  \n",
              "8          0.136030   1.212300e-01  \n",
              "9          0.128028   1.111275e-01  \n",
              "10         0.120025   1.010250e-01  \n",
              "11         0.112023   9.092250e-02  \n",
              "12         0.104020   8.082000e-02  \n",
              "13         0.096018   7.071750e-02  \n",
              "14         0.088015   6.061500e-02  \n",
              "15         0.080013   5.051250e-02  \n",
              "16         0.072010   4.041000e-02  \n",
              "17         0.064008   3.030750e-02  \n",
              "18         0.056005   2.020500e-02  \n",
              "19         0.048003   1.010250e-02  \n",
              "20         0.040000   4.486411e-17  "
            ],
            "text/html": [
              "<div>\n",
              "<style scoped>\n",
              "    .dataframe tbody tr th:only-of-type {\n",
              "        vertical-align: middle;\n",
              "    }\n",
              "\n",
              "    .dataframe tbody tr th {\n",
              "        vertical-align: top;\n",
              "    }\n",
              "\n",
              "    .dataframe thead th {\n",
              "        text-align: right;\n",
              "    }\n",
              "</style>\n",
              "<table border=\"1\" class=\"dataframe\">\n",
              "  <thead>\n",
              "    <tr style=\"text-align: right;\">\n",
              "      <th></th>\n",
              "      <th>market_weight</th>\n",
              "      <th>riskfree_weight</th>\n",
              "      <th>riskfree_rate</th>\n",
              "      <th>market_rate</th>\n",
              "      <th>market_risk</th>\n",
              "      <th>combined_return</th>\n",
              "      <th>combined_risk</th>\n",
              "    </tr>\n",
              "  </thead>\n",
              "  <tbody>\n",
              "    <tr>\n",
              "      <td>0</td>\n",
              "      <td>2.000000e+00</td>\n",
              "      <td>-1.000000e+00</td>\n",
              "      <td>0.04</td>\n",
              "      <td>0.120025</td>\n",
              "      <td>0.101025</td>\n",
              "      <td>0.200050</td>\n",
              "      <td>2.020500e-01</td>\n",
              "    </tr>\n",
              "    <tr>\n",
              "      <td>1</td>\n",
              "      <td>1.900000e+00</td>\n",
              "      <td>-9.000000e-01</td>\n",
              "      <td>0.04</td>\n",
              "      <td>0.120025</td>\n",
              "      <td>0.101025</td>\n",
              "      <td>0.192048</td>\n",
              "      <td>1.919475e-01</td>\n",
              "    </tr>\n",
              "    <tr>\n",
              "      <td>2</td>\n",
              "      <td>1.800000e+00</td>\n",
              "      <td>-8.000000e-01</td>\n",
              "      <td>0.04</td>\n",
              "      <td>0.120025</td>\n",
              "      <td>0.101025</td>\n",
              "      <td>0.184045</td>\n",
              "      <td>1.818450e-01</td>\n",
              "    </tr>\n",
              "    <tr>\n",
              "      <td>3</td>\n",
              "      <td>1.700000e+00</td>\n",
              "      <td>-7.000000e-01</td>\n",
              "      <td>0.04</td>\n",
              "      <td>0.120025</td>\n",
              "      <td>0.101025</td>\n",
              "      <td>0.176043</td>\n",
              "      <td>1.717425e-01</td>\n",
              "    </tr>\n",
              "    <tr>\n",
              "      <td>4</td>\n",
              "      <td>1.600000e+00</td>\n",
              "      <td>-6.000000e-01</td>\n",
              "      <td>0.04</td>\n",
              "      <td>0.120025</td>\n",
              "      <td>0.101025</td>\n",
              "      <td>0.168040</td>\n",
              "      <td>1.616400e-01</td>\n",
              "    </tr>\n",
              "    <tr>\n",
              "      <td>5</td>\n",
              "      <td>1.500000e+00</td>\n",
              "      <td>-5.000000e-01</td>\n",
              "      <td>0.04</td>\n",
              "      <td>0.120025</td>\n",
              "      <td>0.101025</td>\n",
              "      <td>0.160037</td>\n",
              "      <td>1.515375e-01</td>\n",
              "    </tr>\n",
              "    <tr>\n",
              "      <td>6</td>\n",
              "      <td>1.400000e+00</td>\n",
              "      <td>-4.000000e-01</td>\n",
              "      <td>0.04</td>\n",
              "      <td>0.120025</td>\n",
              "      <td>0.101025</td>\n",
              "      <td>0.152035</td>\n",
              "      <td>1.414350e-01</td>\n",
              "    </tr>\n",
              "    <tr>\n",
              "      <td>7</td>\n",
              "      <td>1.300000e+00</td>\n",
              "      <td>-3.000000e-01</td>\n",
              "      <td>0.04</td>\n",
              "      <td>0.120025</td>\n",
              "      <td>0.101025</td>\n",
              "      <td>0.144033</td>\n",
              "      <td>1.313325e-01</td>\n",
              "    </tr>\n",
              "    <tr>\n",
              "      <td>8</td>\n",
              "      <td>1.200000e+00</td>\n",
              "      <td>-2.000000e-01</td>\n",
              "      <td>0.04</td>\n",
              "      <td>0.120025</td>\n",
              "      <td>0.101025</td>\n",
              "      <td>0.136030</td>\n",
              "      <td>1.212300e-01</td>\n",
              "    </tr>\n",
              "    <tr>\n",
              "      <td>9</td>\n",
              "      <td>1.100000e+00</td>\n",
              "      <td>-1.000000e-01</td>\n",
              "      <td>0.04</td>\n",
              "      <td>0.120025</td>\n",
              "      <td>0.101025</td>\n",
              "      <td>0.128028</td>\n",
              "      <td>1.111275e-01</td>\n",
              "    </tr>\n",
              "    <tr>\n",
              "      <td>10</td>\n",
              "      <td>1.000000e+00</td>\n",
              "      <td>-2.220446e-16</td>\n",
              "      <td>0.04</td>\n",
              "      <td>0.120025</td>\n",
              "      <td>0.101025</td>\n",
              "      <td>0.120025</td>\n",
              "      <td>1.010250e-01</td>\n",
              "    </tr>\n",
              "    <tr>\n",
              "      <td>11</td>\n",
              "      <td>9.000000e-01</td>\n",
              "      <td>1.000000e-01</td>\n",
              "      <td>0.04</td>\n",
              "      <td>0.120025</td>\n",
              "      <td>0.101025</td>\n",
              "      <td>0.112023</td>\n",
              "      <td>9.092250e-02</td>\n",
              "    </tr>\n",
              "    <tr>\n",
              "      <td>12</td>\n",
              "      <td>8.000000e-01</td>\n",
              "      <td>2.000000e-01</td>\n",
              "      <td>0.04</td>\n",
              "      <td>0.120025</td>\n",
              "      <td>0.101025</td>\n",
              "      <td>0.104020</td>\n",
              "      <td>8.082000e-02</td>\n",
              "    </tr>\n",
              "    <tr>\n",
              "      <td>13</td>\n",
              "      <td>7.000000e-01</td>\n",
              "      <td>3.000000e-01</td>\n",
              "      <td>0.04</td>\n",
              "      <td>0.120025</td>\n",
              "      <td>0.101025</td>\n",
              "      <td>0.096018</td>\n",
              "      <td>7.071750e-02</td>\n",
              "    </tr>\n",
              "    <tr>\n",
              "      <td>14</td>\n",
              "      <td>6.000000e-01</td>\n",
              "      <td>4.000000e-01</td>\n",
              "      <td>0.04</td>\n",
              "      <td>0.120025</td>\n",
              "      <td>0.101025</td>\n",
              "      <td>0.088015</td>\n",
              "      <td>6.061500e-02</td>\n",
              "    </tr>\n",
              "    <tr>\n",
              "      <td>15</td>\n",
              "      <td>5.000000e-01</td>\n",
              "      <td>5.000000e-01</td>\n",
              "      <td>0.04</td>\n",
              "      <td>0.120025</td>\n",
              "      <td>0.101025</td>\n",
              "      <td>0.080013</td>\n",
              "      <td>5.051250e-02</td>\n",
              "    </tr>\n",
              "    <tr>\n",
              "      <td>16</td>\n",
              "      <td>4.000000e-01</td>\n",
              "      <td>6.000000e-01</td>\n",
              "      <td>0.04</td>\n",
              "      <td>0.120025</td>\n",
              "      <td>0.101025</td>\n",
              "      <td>0.072010</td>\n",
              "      <td>4.041000e-02</td>\n",
              "    </tr>\n",
              "    <tr>\n",
              "      <td>17</td>\n",
              "      <td>3.000000e-01</td>\n",
              "      <td>7.000000e-01</td>\n",
              "      <td>0.04</td>\n",
              "      <td>0.120025</td>\n",
              "      <td>0.101025</td>\n",
              "      <td>0.064008</td>\n",
              "      <td>3.030750e-02</td>\n",
              "    </tr>\n",
              "    <tr>\n",
              "      <td>18</td>\n",
              "      <td>2.000000e-01</td>\n",
              "      <td>8.000000e-01</td>\n",
              "      <td>0.04</td>\n",
              "      <td>0.120025</td>\n",
              "      <td>0.101025</td>\n",
              "      <td>0.056005</td>\n",
              "      <td>2.020500e-02</td>\n",
              "    </tr>\n",
              "    <tr>\n",
              "      <td>19</td>\n",
              "      <td>1.000000e-01</td>\n",
              "      <td>9.000000e-01</td>\n",
              "      <td>0.04</td>\n",
              "      <td>0.120025</td>\n",
              "      <td>0.101025</td>\n",
              "      <td>0.048003</td>\n",
              "      <td>1.010250e-02</td>\n",
              "    </tr>\n",
              "    <tr>\n",
              "      <td>20</td>\n",
              "      <td>4.440892e-16</td>\n",
              "      <td>1.000000e+00</td>\n",
              "      <td>0.04</td>\n",
              "      <td>0.120025</td>\n",
              "      <td>0.101025</td>\n",
              "      <td>0.040000</td>\n",
              "      <td>4.486411e-17</td>\n",
              "    </tr>\n",
              "  </tbody>\n",
              "</table>\n",
              "</div>"
            ]
          },
          "metadata": {}
        }
      ],
      "execution_count": 15,
      "metadata": {
        "collapsed": false,
        "outputHidden": false,
        "inputHidden": false
      }
    },
    {
      "cell_type": "code",
      "source": [
        "plt.figure(figsize=(16,10))\n",
        "plt.plot(tangent_p.combined_risk,tangent_p.combined_return)\n",
        "\n",
        "plt.scatter(results_frame.combined_volatility,results_frame.combined_return,c=results_frame.weight_A,cmap='RdYlBu')\n",
        "\n",
        "plt.colorbar()"
      ],
      "outputs": [
        {
          "output_type": "execute_result",
          "execution_count": 16,
          "data": {
            "text/plain": [
              "<matplotlib.colorbar.Colorbar at 0x1a1ec431d0>"
            ]
          },
          "metadata": {}
        },
        {
          "output_type": "display_data",
          "data": {
            "text/plain": [
              "<Figure size 1152x720 with 2 Axes>"
            ],
            "image/png": "[encoded data removed]"
          },
          "metadata": {
            "needs_background": "light"
          }
        }
      ],
      "execution_count": 16,
      "metadata": {
        "collapsed": false,
        "outputHidden": false,
        "inputHidden": false
      }
    },
    {
      "cell_type": "code",
      "source": [],
      "outputs": [],
      "execution_count": 17,
      "metadata": {
        "collapsed": false,
        "outputHidden": false,
        "inputHidden": false
      }
    }
  ],
  "metadata": {
    "kernel_info": {
      "name": "python3"
    },
    "language_info": {
      "name": "python",
      "version": "3.7.3",
      "mimetype": "text/x-python",
      "codemirror_mode": {
        "name": "ipython",
        "version": 3
      },
      "pygments_lexer": "ipython3",
      "nbconvert_exporter": "python",
      "file_extension": ".py"
    },
    "kernelspec": {
      "name": "python3",
      "language": "python",
      "display_name": "Python 3"
    },
    "nteract": {
      "version": "0.15.0"
    }
  },
  "nbformat": 4,
  "nbformat_minor": 0
}