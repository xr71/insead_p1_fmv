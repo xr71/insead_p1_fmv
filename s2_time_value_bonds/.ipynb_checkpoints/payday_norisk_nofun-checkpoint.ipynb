{
 "cells": [
  {
   "cell_type": "markdown",
   "metadata": {},
   "source": [
    "## Option A:  \n",
    "To get an annual end-of-year bonus for the next five years. The first installment would be $30,000 – to be paid in one year. In each of the following four years, the bonus payment would increase by 10%."
   ]
  },
  {
   "cell_type": "code",
   "execution_count": 3,
   "metadata": {},
   "outputs": [],
   "source": [
    "import math\n",
    "import numpy as np\n",
    "import pandas as pd\n",
    "import random\n",
    "import matplotlib.pyplot as plt\n",
    "import seaborn as sns"
   ]
  },
  {
   "cell_type": "code",
   "execution_count": 4,
   "metadata": {},
   "outputs": [],
   "source": [
    "eoy_bonuses = []\n",
    "for i in range(5):\n",
    "    eoy_bonuses.append(30000 * (1.1)**i)"
   ]
  },
  {
   "cell_type": "code",
   "execution_count": 5,
   "metadata": {},
   "outputs": [
    {
     "data": {
      "text/plain": [
       "[30000.0, 33000.0, 36300.00000000001, 39930.000000000015, 43923.000000000015]"
      ]
     },
     "execution_count": 5,
     "metadata": {},
     "output_type": "execute_result"
    }
   ],
   "source": [
    "eoy_bonuses"
   ]
  },
  {
   "cell_type": "code",
   "execution_count": 6,
   "metadata": {},
   "outputs": [
    {
     "data": {
      "text/plain": [
       "183153.0"
      ]
     },
     "execution_count": 6,
     "metadata": {},
     "output_type": "execute_result"
    }
   ],
   "source": [
    "sum(eoy_bonuses)"
   ]
  },
  {
   "cell_type": "code",
   "execution_count": 7,
   "metadata": {},
   "outputs": [],
   "source": [
    "df_a = pd.DataFrame({\"eoy_bonuses\": eoy_bonuses})"
   ]
  },
  {
   "cell_type": "code",
   "execution_count": 11,
   "metadata": {},
   "outputs": [],
   "source": [
    "df_a[\"year\"] = [1,2,3,4,5]"
   ]
  },
  {
   "cell_type": "markdown",
   "metadata": {},
   "source": [
    "Martin would be willing to work with the following assumptions. (1) He will definitely stay for five years with Renaissance; (2) He can borrow / lend money at an interest rate of 5% with his local bank; (3) The tax treatment of the three payment schedules is the same; and (4) Renaissance will not default within the next five years. In addition, he agrees with the analysts’ consensus forecasts of a stock price of $300 in five years.  \n",
    "\n",
    "To simplify the decision process, Martin has decided to proceed step-by-step. That is, in a first step, he wants to make a decision between alternative (A), the annual bonus payment, and alternative (B), the big bonus payment in five years. Martin also desperately wants to buy a new car in one year which would cost $30,000. Martin is not quite sure how to factor this into the decision problem."
   ]
  },
  {
   "cell_type": "code",
   "execution_count": 12,
   "metadata": {},
   "outputs": [],
   "source": [
    "df_a[\"lend_out_rate\"] = 0.05"
   ]
  },
  {
   "cell_type": "code",
   "execution_count": 13,
   "metadata": {},
   "outputs": [
    {
     "data": {
      "text/html": [
       "<div>\n",
       "<style scoped>\n",
       "    .dataframe tbody tr th:only-of-type {\n",
       "        vertical-align: middle;\n",
       "    }\n",
       "\n",
       "    .dataframe tbody tr th {\n",
       "        vertical-align: top;\n",
       "    }\n",
       "\n",
       "    .dataframe thead th {\n",
       "        text-align: right;\n",
       "    }\n",
       "</style>\n",
       "<table border=\"1\" class=\"dataframe\">\n",
       "  <thead>\n",
       "    <tr style=\"text-align: right;\">\n",
       "      <th></th>\n",
       "      <th>eoy_bonuses</th>\n",
       "      <th>year</th>\n",
       "      <th>lend_out_rate</th>\n",
       "    </tr>\n",
       "  </thead>\n",
       "  <tbody>\n",
       "    <tr>\n",
       "      <th>0</th>\n",
       "      <td>30000.0</td>\n",
       "      <td>1</td>\n",
       "      <td>0.05</td>\n",
       "    </tr>\n",
       "    <tr>\n",
       "      <th>1</th>\n",
       "      <td>33000.0</td>\n",
       "      <td>2</td>\n",
       "      <td>0.05</td>\n",
       "    </tr>\n",
       "    <tr>\n",
       "      <th>2</th>\n",
       "      <td>36300.0</td>\n",
       "      <td>3</td>\n",
       "      <td>0.05</td>\n",
       "    </tr>\n",
       "    <tr>\n",
       "      <th>3</th>\n",
       "      <td>39930.0</td>\n",
       "      <td>4</td>\n",
       "      <td>0.05</td>\n",
       "    </tr>\n",
       "    <tr>\n",
       "      <th>4</th>\n",
       "      <td>43923.0</td>\n",
       "      <td>5</td>\n",
       "      <td>0.05</td>\n",
       "    </tr>\n",
       "  </tbody>\n",
       "</table>\n",
       "</div>"
      ],
      "text/plain": [
       "   eoy_bonuses  year  lend_out_rate\n",
       "0      30000.0     1           0.05\n",
       "1      33000.0     2           0.05\n",
       "2      36300.0     3           0.05\n",
       "3      39930.0     4           0.05\n",
       "4      43923.0     5           0.05"
      ]
     },
     "execution_count": 13,
     "metadata": {},
     "output_type": "execute_result"
    }
   ],
   "source": [
    "df_a"
   ]
  },
  {
   "cell_type": "code",
   "execution_count": 15,
   "metadata": {},
   "outputs": [],
   "source": [
    "df_a[\"bank_earned\"] = df_a.apply(lambda x : x.eoy_bonuses*(1.05)**(5-x.year), axis=1)"
   ]
  },
  {
   "cell_type": "code",
   "execution_count": 16,
   "metadata": {},
   "outputs": [
    {
     "data": {
      "text/html": [
       "<div>\n",
       "<style scoped>\n",
       "    .dataframe tbody tr th:only-of-type {\n",
       "        vertical-align: middle;\n",
       "    }\n",
       "\n",
       "    .dataframe tbody tr th {\n",
       "        vertical-align: top;\n",
       "    }\n",
       "\n",
       "    .dataframe thead th {\n",
       "        text-align: right;\n",
       "    }\n",
       "</style>\n",
       "<table border=\"1\" class=\"dataframe\">\n",
       "  <thead>\n",
       "    <tr style=\"text-align: right;\">\n",
       "      <th></th>\n",
       "      <th>eoy_bonuses</th>\n",
       "      <th>year</th>\n",
       "      <th>lend_out_rate</th>\n",
       "      <th>bank_earned</th>\n",
       "    </tr>\n",
       "  </thead>\n",
       "  <tbody>\n",
       "    <tr>\n",
       "      <th>0</th>\n",
       "      <td>30000.0</td>\n",
       "      <td>1</td>\n",
       "      <td>0.05</td>\n",
       "      <td>36465.1875</td>\n",
       "    </tr>\n",
       "    <tr>\n",
       "      <th>1</th>\n",
       "      <td>33000.0</td>\n",
       "      <td>2</td>\n",
       "      <td>0.05</td>\n",
       "      <td>38201.6250</td>\n",
       "    </tr>\n",
       "    <tr>\n",
       "      <th>2</th>\n",
       "      <td>36300.0</td>\n",
       "      <td>3</td>\n",
       "      <td>0.05</td>\n",
       "      <td>40020.7500</td>\n",
       "    </tr>\n",
       "    <tr>\n",
       "      <th>3</th>\n",
       "      <td>39930.0</td>\n",
       "      <td>4</td>\n",
       "      <td>0.05</td>\n",
       "      <td>41926.5000</td>\n",
       "    </tr>\n",
       "    <tr>\n",
       "      <th>4</th>\n",
       "      <td>43923.0</td>\n",
       "      <td>5</td>\n",
       "      <td>0.05</td>\n",
       "      <td>43923.0000</td>\n",
       "    </tr>\n",
       "  </tbody>\n",
       "</table>\n",
       "</div>"
      ],
      "text/plain": [
       "   eoy_bonuses  year  lend_out_rate  bank_earned\n",
       "0      30000.0     1           0.05   36465.1875\n",
       "1      33000.0     2           0.05   38201.6250\n",
       "2      36300.0     3           0.05   40020.7500\n",
       "3      39930.0     4           0.05   41926.5000\n",
       "4      43923.0     5           0.05   43923.0000"
      ]
     },
     "execution_count": 16,
     "metadata": {},
     "output_type": "execute_result"
    }
   ],
   "source": [
    "df_a"
   ]
  },
  {
   "cell_type": "code",
   "execution_count": 17,
   "metadata": {},
   "outputs": [
    {
     "data": {
      "text/plain": [
       "eoy_bonuses      183153.0000\n",
       "year                 15.0000\n",
       "lend_out_rate         0.2500\n",
       "bank_earned      200537.0625\n",
       "dtype: float64"
      ]
     },
     "execution_count": 17,
     "metadata": {},
     "output_type": "execute_result"
    }
   ],
   "source": [
    "df_a.sum()"
   ]
  },
  {
   "cell_type": "code",
   "execution_count": null,
   "metadata": {},
   "outputs": [],
   "source": []
  },
  {
   "cell_type": "markdown",
   "metadata": {},
   "source": [
    "## Option B\n",
    "To receive one big bonus payment in five years. In this case Renaissance has offered Martin a payment of $225,000 – to be paid in exactly five years from now."
   ]
  },
  {
   "cell_type": "code",
   "execution_count": 18,
   "metadata": {},
   "outputs": [],
   "source": [
    "# in simple scenario, looks like Option B still wins out"
   ]
  },
  {
   "cell_type": "code",
   "execution_count": null,
   "metadata": {},
   "outputs": [],
   "source": []
  },
  {
   "cell_type": "markdown",
   "metadata": {},
   "source": [
    "## More Complicated: Wants to buy a car for 30,000 in one year"
   ]
  },
  {
   "cell_type": "code",
   "execution_count": 19,
   "metadata": {},
   "outputs": [],
   "source": [
    "# in option A, we can buy with cash"
   ]
  },
  {
   "cell_type": "code",
   "execution_count": 20,
   "metadata": {},
   "outputs": [],
   "source": [
    "df_a_alt = df_a.copy()"
   ]
  },
  {
   "cell_type": "code",
   "execution_count": 25,
   "metadata": {},
   "outputs": [],
   "source": [
    "del df_a_alt[\"bank_earned\"]"
   ]
  },
  {
   "cell_type": "code",
   "execution_count": 26,
   "metadata": {},
   "outputs": [
    {
     "data": {
      "text/html": [
       "<div>\n",
       "<style scoped>\n",
       "    .dataframe tbody tr th:only-of-type {\n",
       "        vertical-align: middle;\n",
       "    }\n",
       "\n",
       "    .dataframe tbody tr th {\n",
       "        vertical-align: top;\n",
       "    }\n",
       "\n",
       "    .dataframe thead th {\n",
       "        text-align: right;\n",
       "    }\n",
       "</style>\n",
       "<table border=\"1\" class=\"dataframe\">\n",
       "  <thead>\n",
       "    <tr style=\"text-align: right;\">\n",
       "      <th></th>\n",
       "      <th>eoy_bonuses</th>\n",
       "      <th>year</th>\n",
       "      <th>lend_out_rate</th>\n",
       "      <th>car</th>\n",
       "    </tr>\n",
       "  </thead>\n",
       "  <tbody>\n",
       "    <tr>\n",
       "      <th>0</th>\n",
       "      <td>30000.0</td>\n",
       "      <td>1</td>\n",
       "      <td>0.05</td>\n",
       "      <td>-30000</td>\n",
       "    </tr>\n",
       "    <tr>\n",
       "      <th>1</th>\n",
       "      <td>33000.0</td>\n",
       "      <td>2</td>\n",
       "      <td>0.05</td>\n",
       "      <td>0</td>\n",
       "    </tr>\n",
       "    <tr>\n",
       "      <th>2</th>\n",
       "      <td>36300.0</td>\n",
       "      <td>3</td>\n",
       "      <td>0.05</td>\n",
       "      <td>0</td>\n",
       "    </tr>\n",
       "    <tr>\n",
       "      <th>3</th>\n",
       "      <td>39930.0</td>\n",
       "      <td>4</td>\n",
       "      <td>0.05</td>\n",
       "      <td>0</td>\n",
       "    </tr>\n",
       "    <tr>\n",
       "      <th>4</th>\n",
       "      <td>43923.0</td>\n",
       "      <td>5</td>\n",
       "      <td>0.05</td>\n",
       "      <td>0</td>\n",
       "    </tr>\n",
       "  </tbody>\n",
       "</table>\n",
       "</div>"
      ],
      "text/plain": [
       "   eoy_bonuses  year  lend_out_rate    car\n",
       "0      30000.0     1           0.05 -30000\n",
       "1      33000.0     2           0.05      0\n",
       "2      36300.0     3           0.05      0\n",
       "3      39930.0     4           0.05      0\n",
       "4      43923.0     5           0.05      0"
      ]
     },
     "execution_count": 26,
     "metadata": {},
     "output_type": "execute_result"
    }
   ],
   "source": [
    "df_a_alt[\"car\"] = 0\n",
    "df_a_alt.loc[0, \"car\"] = -30000\n",
    "df_a_alt"
   ]
  },
  {
   "cell_type": "code",
   "execution_count": 27,
   "metadata": {},
   "outputs": [],
   "source": [
    "# now not available for bank investment earnings"
   ]
  },
  {
   "cell_type": "code",
   "execution_count": 29,
   "metadata": {},
   "outputs": [],
   "source": [
    "df_a_alt[\"new_bank_earned\"] = df_a_alt.apply(lambda x : (x.eoy_bonuses + x.car) * (1.05**(5-x.year)), axis=1)"
   ]
  },
  {
   "cell_type": "code",
   "execution_count": 30,
   "metadata": {},
   "outputs": [
    {
     "data": {
      "text/html": [
       "<div>\n",
       "<style scoped>\n",
       "    .dataframe tbody tr th:only-of-type {\n",
       "        vertical-align: middle;\n",
       "    }\n",
       "\n",
       "    .dataframe tbody tr th {\n",
       "        vertical-align: top;\n",
       "    }\n",
       "\n",
       "    .dataframe thead th {\n",
       "        text-align: right;\n",
       "    }\n",
       "</style>\n",
       "<table border=\"1\" class=\"dataframe\">\n",
       "  <thead>\n",
       "    <tr style=\"text-align: right;\">\n",
       "      <th></th>\n",
       "      <th>eoy_bonuses</th>\n",
       "      <th>year</th>\n",
       "      <th>lend_out_rate</th>\n",
       "      <th>car</th>\n",
       "      <th>new_bank_earned</th>\n",
       "    </tr>\n",
       "  </thead>\n",
       "  <tbody>\n",
       "    <tr>\n",
       "      <th>0</th>\n",
       "      <td>30000.0</td>\n",
       "      <td>1</td>\n",
       "      <td>0.05</td>\n",
       "      <td>-30000</td>\n",
       "      <td>0.000</td>\n",
       "    </tr>\n",
       "    <tr>\n",
       "      <th>1</th>\n",
       "      <td>33000.0</td>\n",
       "      <td>2</td>\n",
       "      <td>0.05</td>\n",
       "      <td>0</td>\n",
       "      <td>38201.625</td>\n",
       "    </tr>\n",
       "    <tr>\n",
       "      <th>2</th>\n",
       "      <td>36300.0</td>\n",
       "      <td>3</td>\n",
       "      <td>0.05</td>\n",
       "      <td>0</td>\n",
       "      <td>40020.750</td>\n",
       "    </tr>\n",
       "    <tr>\n",
       "      <th>3</th>\n",
       "      <td>39930.0</td>\n",
       "      <td>4</td>\n",
       "      <td>0.05</td>\n",
       "      <td>0</td>\n",
       "      <td>41926.500</td>\n",
       "    </tr>\n",
       "    <tr>\n",
       "      <th>4</th>\n",
       "      <td>43923.0</td>\n",
       "      <td>5</td>\n",
       "      <td>0.05</td>\n",
       "      <td>0</td>\n",
       "      <td>43923.000</td>\n",
       "    </tr>\n",
       "  </tbody>\n",
       "</table>\n",
       "</div>"
      ],
      "text/plain": [
       "   eoy_bonuses  year  lend_out_rate    car  new_bank_earned\n",
       "0      30000.0     1           0.05 -30000            0.000\n",
       "1      33000.0     2           0.05      0        38201.625\n",
       "2      36300.0     3           0.05      0        40020.750\n",
       "3      39930.0     4           0.05      0        41926.500\n",
       "4      43923.0     5           0.05      0        43923.000"
      ]
     },
     "execution_count": 30,
     "metadata": {},
     "output_type": "execute_result"
    }
   ],
   "source": [
    "df_a_alt"
   ]
  },
  {
   "cell_type": "code",
   "execution_count": 31,
   "metadata": {},
   "outputs": [
    {
     "data": {
      "text/plain": [
       "eoy_bonuses        183153.000\n",
       "year                   15.000\n",
       "lend_out_rate           0.250\n",
       "car                -30000.000\n",
       "new_bank_earned    164071.875\n",
       "dtype: float64"
      ]
     },
     "execution_count": 31,
     "metadata": {},
     "output_type": "execute_result"
    }
   ],
   "source": [
    "df_a_alt.sum()"
   ]
  },
  {
   "cell_type": "markdown",
   "metadata": {},
   "source": [
    "### Option B with buying a car on loan"
   ]
  },
  {
   "cell_type": "code",
   "execution_count": 32,
   "metadata": {},
   "outputs": [],
   "source": [
    "df_b_alt = pd.DataFrame({\"car\": [-30000, 0, 0, 0 ,0]})"
   ]
  },
  {
   "cell_type": "code",
   "execution_count": 34,
   "metadata": {},
   "outputs": [
    {
     "data": {
      "text/plain": [
       "38288.44687500001"
      ]
     },
     "execution_count": 34,
     "metadata": {},
     "output_type": "execute_result"
    }
   ],
   "source": [
    "30000 * 1.05**5"
   ]
  },
  {
   "cell_type": "code",
   "execution_count": 35,
   "metadata": {},
   "outputs": [
    {
     "data": {
      "text/plain": [
       "186711.55"
      ]
     },
     "execution_count": 35,
     "metadata": {},
     "output_type": "execute_result"
    }
   ],
   "source": [
    "225000 - 38288.45"
   ]
  },
  {
   "cell_type": "code",
   "execution_count": null,
   "metadata": {},
   "outputs": [],
   "source": []
  }
 ],
 "metadata": {
  "kernelspec": {
   "display_name": "Python 3",
   "language": "python",
   "name": "python3"
  },
  "language_info": {
   "codemirror_mode": {
    "name": "ipython",
    "version": 3
   },
   "file_extension": ".py",
   "mimetype": "text/x-python",
   "name": "python",
   "nbconvert_exporter": "python",
   "pygments_lexer": "ipython3",
   "version": "3.7.3"
  }
 },
 "nbformat": 4,
 "nbformat_minor": 2
}
