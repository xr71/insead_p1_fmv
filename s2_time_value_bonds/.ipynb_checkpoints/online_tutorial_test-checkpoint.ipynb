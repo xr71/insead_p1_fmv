{
 "cells": [
  {
   "cell_type": "markdown",
   "metadata": {},
   "source": [
    "# Online Tutorial Test\n",
    "Questions: 2, 3, 4, 5, 8, 9,10, 11, 14 and 20\n",
    "  \n",
    "  \n",
    "Xu Ren \n",
    "Create Date: 2019-09-05"
   ]
  },
  {
   "cell_type": "code",
   "execution_count": 1,
   "metadata": {},
   "outputs": [],
   "source": [
    "import math\n",
    "import pandas as pd\n",
    "import numpy as np\n",
    "import matplotlib.pyplot as plt\n",
    "import seaborn as sns"
   ]
  },
  {
   "cell_type": "markdown",
   "metadata": {},
   "source": [
    "### Question 2 \n",
    "\n",
    "You deposit $1,000 today in a bank for 5 years. The interest rate is 5%. Which of the following statements is true?\n",
    "\n",
    "\n",
    "The 5-year compound factor at 5% is 1.2763\n",
    "\n",
    "The 5-year discount factor at 5% is 0.7835\n",
    "\n",
    "At the end of 5 years you will have $1,276.28 in the bank\n",
    "\n",
    "All of the above"
   ]
  },
  {
   "cell_type": "code",
   "execution_count": 5,
   "metadata": {},
   "outputs": [
    {
     "name": "stdout",
     "output_type": "stream",
     "text": [
      "1276.2815625000003\n",
      "Compound factor is 1.2762815625000004\n"
     ]
    }
   ],
   "source": [
    "fv = 1000 * 1.05**5\n",
    "print(fv)\n",
    "print(f\"Compound factor is {fv/1000}\")"
   ]
  },
  {
   "cell_type": "code",
   "execution_count": 6,
   "metadata": {},
   "outputs": [
    {
     "name": "stdout",
     "output_type": "stream",
     "text": [
      "783.5261664684588\n"
     ]
    }
   ],
   "source": [
    "pv = 1000 / (1.05**5)\n",
    "print(pv)"
   ]
  },
  {
   "cell_type": "code",
   "execution_count": 7,
   "metadata": {},
   "outputs": [],
   "source": [
    "# All of the above"
   ]
  },
  {
   "cell_type": "markdown",
   "metadata": {},
   "source": [
    "### Question 3\n",
    "\n",
    "You make a deposit today in a bank that would be worth 1,000 in 2 years and 1,100 in 4 years. What is the implicit rate of interest on this deposit, assuming the rate of interest remains constant for the entire period?  \n",
    "\n",
    "5.00%\n",
    "\n",
    "It cannot be determined with the information given\n",
    "\n",
    "5.12%\n",
    "\n",
    "4.88%"
   ]
  },
  {
   "cell_type": "code",
   "execution_count": 8,
   "metadata": {},
   "outputs": [],
   "source": [
    "# C * (1+r)**2 = 1000 \n",
    "# C * (1+r)**4 = 1100"
   ]
  },
  {
   "cell_type": "markdown",
   "metadata": {},
   "source": [
    "$$\n",
    "  C = 1000 / (1+r)^2\n",
    "$$\n",
    "\n",
    "$$\n",
    "  C = 1100 / (1+r)^4\n",
    "$$\n",
    "\n",
    "$$\n",
    "  1000/(1+r)^2 = 1100/(1+r)^4\n",
    "$$"
   ]
  },
  {
   "cell_type": "code",
   "execution_count": 17,
   "metadata": {},
   "outputs": [],
   "source": [
    "x = np.linspace(0, 0.1, 1000)"
   ]
  },
  {
   "cell_type": "code",
   "execution_count": 18,
   "metadata": {},
   "outputs": [],
   "source": [
    "def f(x):\n",
    "    return (1100/(1+x)**4) - (1000/(1+x)**2)"
   ]
  },
  {
   "cell_type": "code",
   "execution_count": 19,
   "metadata": {},
   "outputs": [],
   "source": [
    "ys = list(map(f, x))"
   ]
  },
  {
   "cell_type": "code",
   "execution_count": 21,
   "metadata": {},
   "outputs": [
    {
     "data": {
      "text/plain": [
       "<matplotlib.collections.LineCollection at 0x1a2084e5f8>"
      ]
     },
     "execution_count": 21,
     "metadata": {},
     "output_type": "execute_result"
    },
    {
     "data": {
      "image/png": "[encoded data removed]",
      "text/plain": [
       "<Figure size 432x288 with 1 Axes>"
      ]
     },
     "metadata": {
      "needs_background": "light"
     },
     "output_type": "display_data"
    }
   ],
   "source": [
    "plt.plot(x, ys)\n",
    "plt.hlines(0, 0, 0.1)"
   ]
  },
  {
   "cell_type": "code",
   "execution_count": 23,
   "metadata": {},
   "outputs": [
    {
     "data": {
      "text/plain": [
       "909.1062481926969"
      ]
     },
     "execution_count": 23,
     "metadata": {},
     "output_type": "execute_result"
    }
   ],
   "source": [
    "1000/(1+0.0488)**2"
   ]
  },
  {
   "cell_type": "code",
   "execution_count": 24,
   "metadata": {},
   "outputs": [
    {
     "data": {
      "text/plain": [
       "909.1215875533014"
      ]
     },
     "execution_count": 24,
     "metadata": {},
     "output_type": "execute_result"
    }
   ],
   "source": [
    "1100/(1+0.0488)**4"
   ]
  },
  {
   "cell_type": "code",
   "execution_count": 28,
   "metadata": {},
   "outputs": [
    {
     "data": {
      "text/plain": [
       "1099.9859795336442"
      ]
     },
     "execution_count": 28,
     "metadata": {},
     "output_type": "execute_result"
    }
   ],
   "source": [
    "909.11 * 1.0488**4"
   ]
  },
  {
   "cell_type": "code",
   "execution_count": 29,
   "metadata": {},
   "outputs": [
    {
     "data": {
      "text/plain": [
       "1000.0041269184"
      ]
     },
     "execution_count": 29,
     "metadata": {},
     "output_type": "execute_result"
    }
   ],
   "source": [
    "909.11 * 1.0488**2"
   ]
  },
  {
   "cell_type": "code",
   "execution_count": 30,
   "metadata": {},
   "outputs": [],
   "source": [
    "# 4.88%"
   ]
  },
  {
   "cell_type": "markdown",
   "metadata": {},
   "source": [
    "### Question 4 \n",
    "\n",
    "A bank offers you 10,000 in 5 years in return for an 8,000 deposit today. What is the implicit interest rate the bank is charging you?\n",
    "\n",
    "\n",
    "4.98%\n",
    "\n",
    "4.65%\n",
    "\n",
    "4.82%\n",
    "\n",
    "4.56%"
   ]
  },
  {
   "cell_type": "markdown",
   "metadata": {},
   "source": [
    "$$\n",
    "  8000 * (1+r) ^ 5 = 10000\n",
    "$$"
   ]
  },
  {
   "cell_type": "code",
   "execution_count": 31,
   "metadata": {},
   "outputs": [
    {
     "data": {
      "text/plain": [
       "1.0456395525912732"
      ]
     },
     "execution_count": 31,
     "metadata": {},
     "output_type": "execute_result"
    }
   ],
   "source": [
    "(10/8) ** (1/5)"
   ]
  },
  {
   "cell_type": "code",
   "execution_count": 32,
   "metadata": {},
   "outputs": [],
   "source": [
    "# 4.564"
   ]
  },
  {
   "cell_type": "code",
   "execution_count": 33,
   "metadata": {},
   "outputs": [
    {
     "data": {
      "text/plain": [
       "9998.108832100013"
      ]
     },
     "execution_count": 33,
     "metadata": {},
     "output_type": "execute_result"
    }
   ],
   "source": [
    "8000 * 1.0456 ** 5"
   ]
  },
  {
   "cell_type": "markdown",
   "metadata": {},
   "source": [
    "### Question 5\n",
    "\n",
    "An investment project promises to generate a cash flow of 10,000 in one year, 8,000 in 2 years and 5,000 in 3 years. If you want to earn at least 10% on the investment, what is the maximum amount you are willing to invest in this project?\n",
    "\n",
    "\n",
    "$19,954.05\n",
    "\n",
    "$19,459.05\n",
    "\n",
    "$19,549.05\n",
    "\n",
    "$19,559.05"
   ]
  },
  {
   "cell_type": "code",
   "execution_count": 34,
   "metadata": {},
   "outputs": [
    {
     "data": {
      "text/plain": [
       "19459.05334335086"
      ]
     },
     "execution_count": 34,
     "metadata": {},
     "output_type": "execute_result"
    }
   ],
   "source": [
    "10000/(1.1) + 8000/(1.1**2) + 5000/(1.1**3)"
   ]
  },
  {
   "cell_type": "code",
   "execution_count": 35,
   "metadata": {},
   "outputs": [],
   "source": [
    "# $19,459.05 is max"
   ]
  },
  {
   "cell_type": "markdown",
   "metadata": {},
   "source": [
    "### Question 8\n",
    "\n",
    "SKIP"
   ]
  },
  {
   "cell_type": "markdown",
   "metadata": {},
   "source": [
    "### Question 9\n",
    "\n",
    "What is the present value of a perpetual cash flow of 100 beginning 2 years from now if the discount rate is 5%?\n",
    "\n",
    "\n",
    "$1,814.06\n",
    "\n",
    "$1,800.00\n",
    "\n",
    "$1,904.76\n",
    "\n",
    "$1,804.76"
   ]
  },
  {
   "cell_type": "code",
   "execution_count": 40,
   "metadata": {},
   "outputs": [],
   "source": [
    "\"\"\"\n",
    "\n",
    "0    1    2    3    4\n",
    "+----+----+----+----+\n",
    "         100\n",
    "\n",
    "\"\"\";"
   ]
  },
  {
   "cell_type": "code",
   "execution_count": 37,
   "metadata": {},
   "outputs": [
    {
     "name": "stdout",
     "output_type": "stream",
     "text": [
      "2000.0\n"
     ]
    }
   ],
   "source": [
    "# step 1\n",
    "from_yr_1 = 100/0.05\n",
    "print(from_yr_1)"
   ]
  },
  {
   "cell_type": "code",
   "execution_count": 41,
   "metadata": {},
   "outputs": [
    {
     "data": {
      "text/plain": [
       "1904.7619047619046"
      ]
     },
     "execution_count": 41,
     "metadata": {},
     "output_type": "execute_result"
    }
   ],
   "source": [
    "2000 / (1.05)"
   ]
  },
  {
   "cell_type": "code",
   "execution_count": 42,
   "metadata": {},
   "outputs": [],
   "source": [
    "# $1,904.76 is PV"
   ]
  },
  {
   "cell_type": "markdown",
   "metadata": {},
   "source": [
    "### Question 10\n",
    "\n",
    "An immediate perpetuity has a present value of 1,000 at 6%. What is the annual perpetual cash flow?\n",
    "\n",
    "\n",
    "$60.00\n",
    "\n",
    "$943.40\n",
    "\n",
    "$16,666\n",
    "\n",
    "$56.60"
   ]
  },
  {
   "cell_type": "markdown",
   "metadata": {},
   "source": [
    "$$\n",
    "  C + C/R = 1000\n",
    "$$\n",
    "\n",
    "$$\n",
    "  C(1+1/0.06) = 1000\n",
    "$$"
   ]
  },
  {
   "cell_type": "code",
   "execution_count": 45,
   "metadata": {},
   "outputs": [
    {
     "data": {
      "text/plain": [
       "56.60377358490565"
      ]
     },
     "execution_count": 45,
     "metadata": {},
     "output_type": "execute_result"
    }
   ],
   "source": [
    "1000/(1/.06 + 1)"
   ]
  },
  {
   "cell_type": "code",
   "execution_count": 46,
   "metadata": {},
   "outputs": [],
   "source": [
    "# $56.60 in annual perpetual cash flow"
   ]
  },
  {
   "cell_type": "markdown",
   "metadata": {},
   "source": [
    "### Question 11\n",
    "\n",
    "What is the estimated value, at a discount rate of 8%, of a firm’s assets if these assets are assumed to generate next year a cash flow of 15 million that is expected to grow forever at 3%?\n",
    "\n",
    "\n",
    "$300 million\n",
    "\n",
    "$250 million\n",
    "\n",
    "$187.5 million\n",
    "\n",
    "$375 million\n"
   ]
  },
  {
   "cell_type": "code",
   "execution_count": 47,
   "metadata": {},
   "outputs": [],
   "source": [
    "# this is growing perpetuity"
   ]
  },
  {
   "cell_type": "markdown",
   "metadata": {},
   "source": [
    "$$\n",
    "  \\frac{C}{(r-g)} = 15M\n",
    "$$"
   ]
  },
  {
   "cell_type": "code",
   "execution_count": 48,
   "metadata": {},
   "outputs": [
    {
     "data": {
      "text/plain": [
       "300.0"
      ]
     },
     "execution_count": 48,
     "metadata": {},
     "output_type": "execute_result"
    }
   ],
   "source": [
    "1/0.05 * 15"
   ]
  },
  {
   "cell_type": "code",
   "execution_count": 49,
   "metadata": {},
   "outputs": [],
   "source": [
    "# $300 Million"
   ]
  },
  {
   "cell_type": "markdown",
   "metadata": {},
   "source": [
    "### Question 14\n",
    "\n",
    "A football player has just signed a 7 million contract to play for 2 years. He will receive 1 million as an immediate cash bonus and 3 million at the end of the first and second year of the contract. If the discount rate is 6%, what is the value of the package?\n",
    "\n",
    "\n",
    "$6,500,200\n",
    "\n",
    "$6,324,000\n",
    "\n",
    "$6,789,000\n",
    "\n",
    "$6,000,000\n"
   ]
  },
  {
   "cell_type": "code",
   "execution_count": 54,
   "metadata": {},
   "outputs": [
    {
     "data": {
      "text/plain": [
       "6500177.999288002"
      ]
     },
     "execution_count": 54,
     "metadata": {},
     "output_type": "execute_result"
    }
   ],
   "source": [
    "(1 + 3/(1.06) + 3/(1.06**2)) * 1000000"
   ]
  },
  {
   "cell_type": "code",
   "execution_count": 55,
   "metadata": {},
   "outputs": [],
   "source": [
    "# package is worth $6,500,200"
   ]
  },
  {
   "cell_type": "markdown",
   "metadata": {},
   "source": [
    "### Question 20\n",
    "\n",
    "What is the value of a firm’s assets if they are expected to generate next year a cash flow of 10 million that is expected to grow at 8% for the following 4 years (up to year 5) and then at 4% in perpetuity? The discount rate is 10%.\n",
    "\n",
    "$181,808,000\n",
    "\n",
    "$271,202,000\n",
    "\n",
    "$201,970,000\n",
    "\n",
    "$190,256,000"
   ]
  },
  {
   "cell_type": "code",
   "execution_count": 57,
   "metadata": {},
   "outputs": [],
   "source": [
    "\"\"\"\n",
    "0    1    2    3    4    5    6...\n",
    "+----+----+----+----+----+----+...\n",
    "     10   ^1   ^2   ^3   ^4   g=.04\n",
    "\"\"\";"
   ]
  },
  {
   "cell_type": "code",
   "execution_count": 58,
   "metadata": {},
   "outputs": [],
   "source": [
    "cashflows = [0, 10, 10*1.08, 10*1.08**2, 10*1.08**3, 10*1.08**4]"
   ]
  },
  {
   "cell_type": "code",
   "execution_count": 59,
   "metadata": {},
   "outputs": [
    {
     "data": {
      "text/plain": [
       "[0, 10, 10.8, 11.664000000000001, 12.597120000000002, 13.604889600000003]"
      ]
     },
     "execution_count": 59,
     "metadata": {},
     "output_type": "execute_result"
    }
   ],
   "source": [
    "cashflows"
   ]
  },
  {
   "cell_type": "code",
   "execution_count": 60,
   "metadata": {},
   "outputs": [],
   "source": [
    "# growing annuity plus growing perpetuity"
   ]
  },
  {
   "cell_type": "code",
   "execution_count": 62,
   "metadata": {},
   "outputs": [
    {
     "data": {
      "text/plain": [
       "43.83143327269017"
      ]
     },
     "execution_count": 62,
     "metadata": {},
     "output_type": "execute_result"
    }
   ],
   "source": [
    "10/(0.1-0.08) * (1 - (1.1/1.08)**-5)"
   ]
  },
  {
   "cell_type": "code",
   "execution_count": 69,
   "metadata": {},
   "outputs": [
    {
     "data": {
      "text/plain": [
       "235.8182666666667"
      ]
     },
     "execution_count": 69,
     "metadata": {},
     "output_type": "execute_result"
    }
   ],
   "source": [
    "(13.6049*1.04)/(.1-.04)"
   ]
  },
  {
   "cell_type": "code",
   "execution_count": 70,
   "metadata": {},
   "outputs": [
    {
     "data": {
      "text/plain": [
       "146.42459034715705"
      ]
     },
     "execution_count": 70,
     "metadata": {},
     "output_type": "execute_result"
    }
   ],
   "source": [
    "235.818267 / (1.1**5)"
   ]
  },
  {
   "cell_type": "code",
   "execution_count": 72,
   "metadata": {},
   "outputs": [
    {
     "data": {
      "text/plain": [
       "190.25599"
      ]
     },
     "execution_count": 72,
     "metadata": {},
     "output_type": "execute_result"
    }
   ],
   "source": [
    "146.42459 + 43.8314"
   ]
  },
  {
   "cell_type": "code",
   "execution_count": 73,
   "metadata": {},
   "outputs": [],
   "source": [
    "# $190,256,000"
   ]
  },
  {
   "cell_type": "code",
   "execution_count": null,
   "metadata": {},
   "outputs": [],
   "source": []
  }
 ],
 "metadata": {
  "kernelspec": {
   "display_name": "Python 3",
   "language": "python",
   "name": "python3"
  },
  "language_info": {
   "codemirror_mode": {
    "name": "ipython",
    "version": 3
   },
   "file_extension": ".py",
   "mimetype": "text/x-python",
   "name": "python",
   "nbconvert_exporter": "python",
   "pygments_lexer": "ipython3",
   "version": "3.7.3"
  }
 },
 "nbformat": 4,
 "nbformat_minor": 2
}
