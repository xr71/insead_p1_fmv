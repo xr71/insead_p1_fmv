{
 "cells": [
  {
   "cell_type": "code",
   "execution_count": 1,
   "metadata": {},
   "outputs": [],
   "source": [
    "import pandas as pd\n",
    "import numpy as np\n",
    "import math\n",
    "import matplotlib.pyplot as plt\n",
    "import seaborn as sns\n",
    "import scipy.stats as ss"
   ]
  },
  {
   "cell_type": "markdown",
   "metadata": {},
   "source": [
    "Please answer questions 1, 5, 7, 8, 9, 10, 13, 14, 17, and 18."
   ]
  },
  {
   "cell_type": "markdown",
   "metadata": {},
   "source": [
    "### 1\n",
    "\n",
    "The riskless rate of return is 4% and the expected return on the market portfolio is 8%.\n",
    "\n",
    " \n",
    "\n",
    "What is the expected return on the shares of a firm with a beta of 1.15 ?"
   ]
  },
  {
   "cell_type": "markdown",
   "metadata": {},
   "source": [
    "$$\n",
    "    CAPM = R_{riskfree} + {Beta}*[E(R_{m}) - R_{riskfree}]\n",
    "$$"
   ]
  },
  {
   "cell_type": "code",
   "execution_count": 2,
   "metadata": {},
   "outputs": [
    {
     "data": {
      "text/plain": [
       "8.6"
      ]
     },
     "execution_count": 2,
     "metadata": {},
     "output_type": "execute_result"
    }
   ],
   "source": [
    "4 + 1.15 * (8-4)"
   ]
  },
  {
   "cell_type": "code",
   "execution_count": null,
   "metadata": {},
   "outputs": [],
   "source": []
  },
  {
   "cell_type": "markdown",
   "metadata": {},
   "source": [
    "### 5\n",
    "\n",
    "The market is expected to return 7% and has a volatility of 16%. The riskless rate of return is 3%. An investor with \\\\$60,000 is willing to bear a maximum volatility of 20% on his portfolio.\n",
    "\n",
    " \n",
    "\n",
    "How should he allocate his \\\\$60,000 investment between the market and the riskless asset ?"
   ]
  },
  {
   "cell_type": "code",
   "execution_count": 4,
   "metadata": {},
   "outputs": [],
   "source": [
    "def vol_rf_market(weight1, weight2, return1, return2, vol1, vol2, corr):\n",
    "    \n",
    "    combined_var = weight1**2 * vol1**2 + weight2**2 * vol2**2 + 2*weight1*weight2*vol1*vol2*corr\n",
    "    \n",
    "    return combined_var**0.5"
   ]
  },
  {
   "cell_type": "code",
   "execution_count": 10,
   "metadata": {},
   "outputs": [
    {
     "data": {
      "text/plain": [
       "0.08"
      ]
     },
     "execution_count": 10,
     "metadata": {},
     "output_type": "execute_result"
    }
   ],
   "source": [
    "vol_rf_market(.5, .5, 0.07, 0.03, 0.16, 0.0, 0.0)"
   ]
  },
  {
   "cell_type": "code",
   "execution_count": 15,
   "metadata": {},
   "outputs": [
    {
     "name": "stdout",
     "output_type": "stream",
     "text": [
      "0.16 1 0\n",
      "0.168 1.05 -0.05\n",
      "0.17600000000000002 1.1 -0.1\n",
      "0.18400000000000002 1.15 -0.15\n",
      "0.19200000000000003 1.2 -0.2\n",
      "0.20000000000000007 1.25 -0.25\n",
      "0.20800000000000005 1.3 -0.3\n",
      "0.21600000000000005 1.35 -0.35\n",
      "0.22400000000000006 1.4 -0.4\n",
      "0.2320000000000001 1.45 -0.45\n"
     ]
    }
   ],
   "source": [
    "w1 = 1\n",
    "\n",
    "for i in range(10):\n",
    "    w2 = 1 - w1\n",
    "    print(vol_rf_market(w1, w2, 0.07, 0.03, 0.16, 0, 0), round(w1, 3), round(w2, 3))\n",
    "    \n",
    "    w1 += 0.05"
   ]
  },
  {
   "cell_type": "code",
   "execution_count": null,
   "metadata": {},
   "outputs": [],
   "source": []
  },
  {
   "cell_type": "markdown",
   "metadata": {},
   "source": [
    "### 7\n",
    "\n",
    "An asset has a beta coefficient of 1.10, a volatility of 24% and a correlation of 0.825 with the market portfolio.\n",
    "\n",
    " \n",
    "\n",
    "What is the market volatility ?\n",
    "\n"
   ]
  },
  {
   "cell_type": "markdown",
   "metadata": {},
   "source": [
    "$$\n",
    "    BETA = \\frac{Corr(R_i, R_m) * Vol_i}{Vol_m}\n",
    "$$"
   ]
  },
  {
   "cell_type": "code",
   "execution_count": 16,
   "metadata": {},
   "outputs": [
    {
     "data": {
      "text/plain": [
       "0.19799999999999998"
      ]
     },
     "execution_count": 16,
     "metadata": {},
     "output_type": "execute_result"
    }
   ],
   "source": [
    "0.825 * .24"
   ]
  },
  {
   "cell_type": "code",
   "execution_count": 18,
   "metadata": {},
   "outputs": [
    {
     "data": {
      "text/plain": [
       "0.18"
      ]
     },
     "execution_count": 18,
     "metadata": {},
     "output_type": "execute_result"
    }
   ],
   "source": [
    "0.198/1.1"
   ]
  },
  {
   "cell_type": "code",
   "execution_count": null,
   "metadata": {},
   "outputs": [],
   "source": []
  },
  {
   "cell_type": "markdown",
   "metadata": {},
   "source": [
    "### 8\n",
    "\n",
    "Asset A has a volatility of 20% and a beta of 0.95. Asset B has a lower volatility of 15% and a beta of 1.10.\n",
    "\n",
    "\n",
    "In a portfolio context with many assets, which of the following statements is correct ?"
   ]
  },
  {
   "cell_type": "code",
   "execution_count": 20,
   "metadata": {},
   "outputs": [],
   "source": [
    "# Asset A is riskier than asset B.\n",
    "\n",
    "# Asset B is riskier than asset A.\n",
    "\n",
    "# The answer depends on which measure of risk is chosen.\n",
    "\n",
    "# There is an inconsistency in the information provided."
   ]
  },
  {
   "cell_type": "code",
   "execution_count": 21,
   "metadata": {},
   "outputs": [],
   "source": [
    "# (corrA * .2)/.95 = (corrB * .15)/1.1"
   ]
  },
  {
   "cell_type": "code",
   "execution_count": 31,
   "metadata": {},
   "outputs": [],
   "source": [
    "# 1100corrA * 220 = 950corrB * 142.5"
   ]
  },
  {
   "cell_type": "code",
   "execution_count": 32,
   "metadata": {},
   "outputs": [
    {
     "data": {
      "text/plain": [
       "242000"
      ]
     },
     "execution_count": 32,
     "metadata": {},
     "output_type": "execute_result"
    }
   ],
   "source": [
    "1100 * 220"
   ]
  },
  {
   "cell_type": "code",
   "execution_count": 33,
   "metadata": {},
   "outputs": [
    {
     "data": {
      "text/plain": [
       "135375.0"
      ]
     },
     "execution_count": 33,
     "metadata": {},
     "output_type": "execute_result"
    }
   ],
   "source": [
    "950*142.5"
   ]
  },
  {
   "cell_type": "code",
   "execution_count": 34,
   "metadata": {},
   "outputs": [
    {
     "data": {
      "text/plain": [
       "1.7876269621421976"
      ]
     },
     "execution_count": 34,
     "metadata": {},
     "output_type": "execute_result"
    }
   ],
   "source": [
    "242000 / 135375"
   ]
  },
  {
   "cell_type": "code",
   "execution_count": null,
   "metadata": {},
   "outputs": [],
   "source": []
  },
  {
   "cell_type": "markdown",
   "metadata": {},
   "source": [
    "### 9 \n",
    "\n",
    "Asset A has an expected return of 7.80% with 20% volatility. Asset B has a higher expected return of 8.40% with 15% volatility.\n",
    "\n",
    " \n",
    "\n",
    "Which of the following statements is correct ?"
   ]
  },
  {
   "cell_type": "code",
   "execution_count": 37,
   "metadata": {},
   "outputs": [],
   "source": [
    "# The data is inconsistent with the CAPM because the ration of expected returns (7.80%/8.40%) \n",
    "# is different from the ratio of their corresponding volatilities (20%/15%)\n",
    "\n",
    "\n",
    "# The data is inconsistent with the CAPM that posits a positive relationship between expected \n",
    "# returns and risk: higher expected returns should be associated with higher risk, not lower risk.\n",
    "\n",
    "\n",
    "# The data is consistent with the CAPM only if investors display a favorable attitude towards risk.\n",
    "\n",
    "\n",
    "# The data does not necessarily contradict the CAPM because the relevant measure of the risk of an \n",
    "# asset, according to the CAPM is beta not volatility."
   ]
  },
  {
   "cell_type": "code",
   "execution_count": null,
   "metadata": {},
   "outputs": [],
   "source": []
  },
  {
   "cell_type": "markdown",
   "metadata": {},
   "source": [
    "### 10\n",
    "\n",
    "Portfolio P has an expected return of 14% and a volatility of 32%. The expected market risk premium and the riskless rate are both 5%. The market volatility is 16%.\n",
    "\n",
    " \n",
    "\n",
    "Is portfolio P efficient according the the CAPM?"
   ]
  },
  {
   "cell_type": "code",
   "execution_count": 38,
   "metadata": {},
   "outputs": [
    {
     "data": {
      "text/plain": [
       "15.0"
      ]
     },
     "execution_count": 38,
     "metadata": {},
     "output_type": "execute_result"
    }
   ],
   "source": [
    "(5/16) * 32 + 5"
   ]
  },
  {
   "cell_type": "code",
   "execution_count": 40,
   "metadata": {},
   "outputs": [],
   "source": [
    "# Not efficient, should have returned 15% rather than 14%"
   ]
  },
  {
   "cell_type": "code",
   "execution_count": null,
   "metadata": {},
   "outputs": [],
   "source": []
  },
  {
   "cell_type": "markdown",
   "metadata": {},
   "source": [
    "### 13\n",
    "\n",
    "What is the cost of equity capital of a company with a beta of 1.16 ? (The expected excess return on the market portfolio is 4% and the riskless rate of return is 3%.)"
   ]
  },
  {
   "cell_type": "code",
   "execution_count": 41,
   "metadata": {},
   "outputs": [
    {
     "data": {
      "text/plain": [
       "7.64"
      ]
     },
     "execution_count": 41,
     "metadata": {},
     "output_type": "execute_result"
    }
   ],
   "source": [
    "3 + 1.16*4"
   ]
  },
  {
   "cell_type": "code",
   "execution_count": null,
   "metadata": {},
   "outputs": [],
   "source": []
  },
  {
   "cell_type": "markdown",
   "metadata": {},
   "source": [
    "### 14\n",
    "\n",
    "You want to estimate a firm's cost of equity. The firm's shares have a volatility of 15% and a correlation of 0.80 with the market. You know that there is an efficient portfolio with a volatility of 20% and an expected return of 15%. The expected return on the market portfolio is 10% and the riskless rate of return is 5%."
   ]
  },
  {
   "cell_type": "code",
   "execution_count": 42,
   "metadata": {},
   "outputs": [
    {
     "data": {
      "text/plain": [
       "0.6"
      ]
     },
     "execution_count": 42,
     "metadata": {},
     "output_type": "execute_result"
    }
   ],
   "source": [
    "# calculate beta\n",
    "\n",
    "(0.8 * .15)/.2"
   ]
  },
  {
   "cell_type": "code",
   "execution_count": 46,
   "metadata": {},
   "outputs": [
    {
     "data": {
      "text/plain": [
       "11.0"
      ]
     },
     "execution_count": 46,
     "metadata": {},
     "output_type": "execute_result"
    }
   ],
   "source": [
    "0.6 * (15-5) + 5"
   ]
  },
  {
   "cell_type": "code",
   "execution_count": null,
   "metadata": {},
   "outputs": [],
   "source": []
  },
  {
   "cell_type": "markdown",
   "metadata": {},
   "source": [
    "### 17  \n",
    "\n",
    "Manager A has achieved a 12% return with a volatility of 20% and a beta of 1.10. Manager B has achieved a 13% return with a volatility of 25% and a beta of 1.20. Over the same period the market portfolio yielded 11% and the riskless rate was 6%.\n",
    "\n",
    " \n",
    "\n",
    "Which of the following statements is correct ?"
   ]
  },
  {
   "cell_type": "code",
   "execution_count": 47,
   "metadata": {},
   "outputs": [],
   "source": [
    "# Manager A underperformed the market and Manager B overperformed it.\n",
    "\n",
    "\n",
    "# Manager A outperformed the market and Manager B underperformed it.\n",
    "\n",
    "\n",
    "# Both managers underperformed the market.\n",
    "\n",
    "\n",
    "# Both managers overperformed the market."
   ]
  },
  {
   "cell_type": "code",
   "execution_count": 48,
   "metadata": {},
   "outputs": [
    {
     "data": {
      "text/plain": [
       "11.5"
      ]
     },
     "execution_count": 48,
     "metadata": {},
     "output_type": "execute_result"
    }
   ],
   "source": [
    "1.1 * (11-6) + 6"
   ]
  },
  {
   "cell_type": "code",
   "execution_count": 49,
   "metadata": {},
   "outputs": [
    {
     "data": {
      "text/plain": [
       "12.0"
      ]
     },
     "execution_count": 49,
     "metadata": {},
     "output_type": "execute_result"
    }
   ],
   "source": [
    "1.2 * (11-6) + 6"
   ]
  },
  {
   "cell_type": "markdown",
   "metadata": {},
   "source": [
    "### 18  \n",
    "\n",
    "Manager A has achieved a 11% return with a volatility of 30% and a beta of 1.20. Manager B has achieved a 13% return with a volatility of 25% and a beta of 0.90. Over the same period, the market portfolio yielded 12% and a riskless rate was 7%.\n",
    "\n",
    " \n",
    "\n",
    "Which of the following statements is correct ?\n",
    "\n",
    "\n",
    "\n",
    "Manager A produced an alpha of 1.5% and Manager B an alpha of -2%.\n",
    "\n",
    "\n",
    "Manager A produced an alpha of 2% and Manager B an alpha of -1.5%.\n",
    "\n",
    "\n",
    "Manager A produced an alpha of -1.5% and Manager B an alpha of 2%.\n",
    "\n",
    "\n",
    "Manager A produced an alpha of -2% and Manager B an alpha of 1.5%."
   ]
  },
  {
   "cell_type": "code",
   "execution_count": 54,
   "metadata": {},
   "outputs": [
    {
     "data": {
      "text/plain": [
       "13.0"
      ]
     },
     "execution_count": 54,
     "metadata": {},
     "output_type": "execute_result"
    }
   ],
   "source": [
    "1.2*(12-7) + 7"
   ]
  },
  {
   "cell_type": "code",
   "execution_count": 53,
   "metadata": {},
   "outputs": [
    {
     "data": {
      "text/plain": [
       "11.5"
      ]
     },
     "execution_count": 53,
     "metadata": {},
     "output_type": "execute_result"
    }
   ],
   "source": [
    ".9*(12-7) + 7"
   ]
  },
  {
   "cell_type": "code",
   "execution_count": 56,
   "metadata": {},
   "outputs": [
    {
     "data": {
      "text/plain": [
       "-2"
      ]
     },
     "execution_count": 56,
     "metadata": {},
     "output_type": "execute_result"
    }
   ],
   "source": [
    "(11-13)"
   ]
  },
  {
   "cell_type": "code",
   "execution_count": 57,
   "metadata": {},
   "outputs": [
    {
     "data": {
      "text/plain": [
       "1.5"
      ]
     },
     "execution_count": 57,
     "metadata": {},
     "output_type": "execute_result"
    }
   ],
   "source": [
    "13-11.5"
   ]
  },
  {
   "cell_type": "code",
   "execution_count": null,
   "metadata": {},
   "outputs": [],
   "source": []
  }
 ],
 "metadata": {
  "kernelspec": {
   "display_name": "Python 3",
   "language": "python",
   "name": "python3"
  },
  "language_info": {
   "codemirror_mode": {
    "name": "ipython",
    "version": 3
   },
   "file_extension": ".py",
   "mimetype": "text/x-python",
   "name": "python",
   "nbconvert_exporter": "python",
   "pygments_lexer": "ipython3",
   "version": "3.7.3"
  }
 },
 "nbformat": 4,
 "nbformat_minor": 2
}
