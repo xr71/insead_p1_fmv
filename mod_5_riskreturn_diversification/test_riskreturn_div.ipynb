{
 "cells": [
  {
   "cell_type": "code",
   "execution_count": 1,
   "metadata": {},
   "outputs": [],
   "source": [
    "import pandas as pd\n",
    "import numpy as np\n",
    "import math\n",
    "import matplotlib.pyplot as plt\n",
    "import scipy.stats as ss\n",
    "import itertools"
   ]
  },
  {
   "cell_type": "markdown",
   "metadata": {},
   "source": [
    "- Please answer questions 3, 4, 5, 6 ,10, 13, 14, 17, 18 and 19."
   ]
  },
  {
   "cell_type": "markdown",
   "metadata": {},
   "source": [
    "### 3\n",
    "\n",
    "Asset A has an expected return of 11% and a volatility of 14%. Asset B has an expected return of 7% and a volatility of 10%."
   ]
  },
  {
   "cell_type": "code",
   "execution_count": 2,
   "metadata": {},
   "outputs": [
    {
     "data": {
      "text/plain": [
       "0.7857142857142857"
      ]
     },
     "execution_count": 2,
     "metadata": {},
     "output_type": "execute_result"
    }
   ],
   "source": [
    "11/14"
   ]
  },
  {
   "cell_type": "code",
   "execution_count": 3,
   "metadata": {},
   "outputs": [
    {
     "data": {
      "text/plain": [
       "0.7"
      ]
     },
     "execution_count": 3,
     "metadata": {},
     "output_type": "execute_result"
    }
   ],
   "source": [
    "7/10"
   ]
  },
  {
   "cell_type": "code",
   "execution_count": null,
   "metadata": {},
   "outputs": [],
   "source": []
  },
  {
   "cell_type": "markdown",
   "metadata": {},
   "source": [
    "### 4\n",
    "\n",
    "Asset A has an expected return of 11% and a volatility of 14%. Asset B has an expected return of 7% and a volatility of 10%.  \n",
    "An investor has \\\\$200,000 to invest in a portfolio of asset A and asset B. What is the expected return of a portfolio with \\\\$80,000 invested in asset A and the balance in asset B ?"
   ]
  },
  {
   "cell_type": "code",
   "execution_count": 6,
   "metadata": {},
   "outputs": [],
   "source": [
    "weight_a = 80000/200000\n",
    "weight_b = (200000-80000)/200000"
   ]
  },
  {
   "cell_type": "code",
   "execution_count": 7,
   "metadata": {},
   "outputs": [
    {
     "data": {
      "text/plain": [
       "(0.4, 0.6)"
      ]
     },
     "execution_count": 7,
     "metadata": {},
     "output_type": "execute_result"
    }
   ],
   "source": [
    "weight_a, weight_b"
   ]
  },
  {
   "cell_type": "code",
   "execution_count": 8,
   "metadata": {},
   "outputs": [
    {
     "data": {
      "text/plain": [
       "8.600000000000001"
      ]
     },
     "execution_count": 8,
     "metadata": {},
     "output_type": "execute_result"
    }
   ],
   "source": [
    "weight_a * 11 + weight_b * 7"
   ]
  },
  {
   "cell_type": "code",
   "execution_count": null,
   "metadata": {},
   "outputs": [],
   "source": []
  },
  {
   "cell_type": "markdown",
   "metadata": {},
   "source": [
    "### 5\n",
    "\n",
    "Asset A has an expected return of 11% and a volatility of 14%. Asset B has an expected return of 7% and a volatility of 10%.\n",
    "\n",
    " \n",
    "\n",
    "An investor has \\\\$200,000 to invest in a portfolio of asset A and asset B. What is the volatility of a portfolio with \\\\$80,000 invested in asset A and the balance in asset B if the correlation coefficient between the two assets is 0.40 ?"
   ]
  },
  {
   "cell_type": "code",
   "execution_count": 9,
   "metadata": {},
   "outputs": [
    {
     "data": {
      "text/plain": [
       "0.009424000000000004"
      ]
     },
     "execution_count": 9,
     "metadata": {},
     "output_type": "execute_result"
    }
   ],
   "source": [
    "weight_a**2*(0.14)**2 + weight_b**2*(0.1)**2 + 2*weight_a*weight_b*0.4*0.14*0.1"
   ]
  },
  {
   "cell_type": "code",
   "execution_count": 10,
   "metadata": {},
   "outputs": [
    {
     "data": {
      "text/plain": [
       "9.70772887960928"
      ]
     },
     "execution_count": 10,
     "metadata": {},
     "output_type": "execute_result"
    }
   ],
   "source": [
    "0.009424000000000004**0.5 * 100"
   ]
  },
  {
   "cell_type": "code",
   "execution_count": null,
   "metadata": {},
   "outputs": [],
   "source": []
  },
  {
   "cell_type": "markdown",
   "metadata": {},
   "source": [
    "### 6 \n",
    "\n",
    "A portfolio has an equal proportion of 4 assets that have the same volatility of 10%. There are no correlations between the pairwise returns of these assets. Asset A has an expected return of 6%, asset B of 9%, asset C of 8% and asset D of 7%.\n",
    "\n",
    " \n",
    "\n",
    "What is the expected return of the portfolio ?"
   ]
  },
  {
   "cell_type": "code",
   "execution_count": 11,
   "metadata": {},
   "outputs": [
    {
     "data": {
      "text/plain": [
       "7.5"
      ]
     },
     "execution_count": 11,
     "metadata": {},
     "output_type": "execute_result"
    }
   ],
   "source": [
    ".25*6 + .25*9 + .25*8 + .25*7"
   ]
  },
  {
   "cell_type": "code",
   "execution_count": 13,
   "metadata": {},
   "outputs": [
    {
     "data": {
      "text/plain": [
       "0.05"
      ]
     },
     "execution_count": 13,
     "metadata": {},
     "output_type": "execute_result"
    }
   ],
   "source": [
    "math.sqrt(.25**2 * .1**2 * 4)"
   ]
  },
  {
   "cell_type": "code",
   "execution_count": null,
   "metadata": {},
   "outputs": [],
   "source": []
  },
  {
   "cell_type": "markdown",
   "metadata": {},
   "source": [
    "### 10\n",
    "\n",
    "Assume you have a portfolio of 15 risky assets. Which of the following statements is correct ?\n",
    "\n",
    "\n",
    "\n",
    "Adding an asset to the portfolio does not change the portfolio risk.\n",
    "\n",
    "\n",
    "All of the other statements are correct.\n",
    "\n",
    "\n",
    "Adding an asset to the portfolio will decrease the diversifiable risk.\n",
    "\n",
    "\n",
    "Adding an asset to the portfolio will increase the systematic risk."
   ]
  },
  {
   "cell_type": "code",
   "execution_count": null,
   "metadata": {},
   "outputs": [],
   "source": []
  },
  {
   "cell_type": "markdown",
   "metadata": {},
   "source": [
    "### 13\n",
    "\n",
    "Which of the following statements describes the Sharpe Ratio ?\n",
    "\n",
    "\n",
    "\n",
    "It is a measure of an asset's volatility per unit of excess return\n",
    "\n",
    "\n",
    "It is a measure of an asset's excess return per unit of risk.\n",
    "\n",
    "\n",
    "It is a measure of the covariance of a risky asset with the efficient portfolio.\n",
    "\n",
    "\n",
    "Only the second and the third statements.\n",
    "\n",
    "\n",
    "Only the first and the third statements."
   ]
  },
  {
   "cell_type": "code",
   "execution_count": null,
   "metadata": {},
   "outputs": [],
   "source": []
  },
  {
   "cell_type": "markdown",
   "metadata": {},
   "source": [
    "### 14\n",
    "\n",
    "An asset has an expected return of 10% and volatility of 10%. If its Sharpe Ratio is 0.60, what is the risk-free rate ?"
   ]
  },
  {
   "cell_type": "code",
   "execution_count": 14,
   "metadata": {},
   "outputs": [
    {
     "data": {
      "text/plain": [
       "0.6"
      ]
     },
     "execution_count": 14,
     "metadata": {},
     "output_type": "execute_result"
    }
   ],
   "source": [
    "(.10 - (.04)) / (0.1)"
   ]
  },
  {
   "cell_type": "code",
   "execution_count": null,
   "metadata": {},
   "outputs": [],
   "source": []
  },
  {
   "cell_type": "markdown",
   "metadata": {},
   "source": [
    "### 17\n",
    "\n",
    "The riskless rate is 3%. The tangent portfolio of risky asset has an expected return of 9% and a volatility of 10%.\n",
    "\n",
    " \n",
    "\n",
    "What is the optimal portfolio of an investor who has a target expected return of 6%."
   ]
  },
  {
   "cell_type": "code",
   "execution_count": 15,
   "metadata": {},
   "outputs": [
    {
     "data": {
      "text/plain": [
       "6.0"
      ]
     },
     "execution_count": 15,
     "metadata": {},
     "output_type": "execute_result"
    }
   ],
   "source": [
    ".5*9 + .5*3"
   ]
  },
  {
   "cell_type": "code",
   "execution_count": null,
   "metadata": {},
   "outputs": [],
   "source": []
  },
  {
   "cell_type": "markdown",
   "metadata": {},
   "source": [
    "### 18\n",
    "\n",
    "The riskless rate is 3%. The tangent portfolio of risky asset has an expected return of 9% and a volatility of 10%.\n",
    "\n",
    " \n",
    "\n",
    "What is the volatility of the optimal portfolio in the previous question ?"
   ]
  },
  {
   "cell_type": "code",
   "execution_count": 16,
   "metadata": {},
   "outputs": [
    {
     "data": {
      "text/plain": [
       "0.05"
      ]
     },
     "execution_count": 16,
     "metadata": {},
     "output_type": "execute_result"
    }
   ],
   "source": [
    "math.sqrt(.5**2 * .1**2)"
   ]
  },
  {
   "cell_type": "code",
   "execution_count": null,
   "metadata": {},
   "outputs": [],
   "source": []
  },
  {
   "cell_type": "markdown",
   "metadata": {},
   "source": [
    "### 19\n",
    "\n",
    "The riskless rate is 3%. The tangent portfolio of risky asset has an expected return of 9% and a volatility of 10%.\n",
    "\n",
    " \n",
    "\n",
    "What is the optimal portfolio of an investor who has a target expected return of 12% ?"
   ]
  },
  {
   "cell_type": "code",
   "execution_count": 17,
   "metadata": {},
   "outputs": [
    {
     "data": {
      "text/plain": [
       "12.0"
      ]
     },
     "execution_count": 17,
     "metadata": {},
     "output_type": "execute_result"
    }
   ],
   "source": [
    "1.5 * 9 - .5 * 3"
   ]
  },
  {
   "cell_type": "code",
   "execution_count": null,
   "metadata": {},
   "outputs": [],
   "source": []
  }
 ],
 "metadata": {
  "kernelspec": {
   "display_name": "Python 3",
   "language": "python",
   "name": "python3"
  },
  "language_info": {
   "codemirror_mode": {
    "name": "ipython",
    "version": 3
   },
   "file_extension": ".py",
   "mimetype": "text/x-python",
   "name": "python",
   "nbconvert_exporter": "python",
   "pygments_lexer": "ipython3",
   "version": "3.7.3"
  }
 },
 "nbformat": 4,
 "nbformat_minor": 2
}
