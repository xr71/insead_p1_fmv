{
 "cells": [
  {
   "cell_type": "code",
   "execution_count": 18,
   "metadata": {},
   "outputs": [],
   "source": [
    "import pandas as pd\n",
    "import numpy as np\n",
    "import math\n",
    "import matplotlib.pyplot as plt\n",
    "import scipy.stats as ss\n",
    "import itertools"
   ]
  },
  {
   "cell_type": "markdown",
   "metadata": {},
   "source": [
    "### Round 1 Results\n",
    "\n",
    "L = 5.49  \n",
    "LMC = 2  \n",
    "  \n",
    "H = 8  \n",
    "HMC = 5  \n",
    "\n",
    "$$\n",
    "    Q = \\frac{500000}{(P_L + P_H)^3}\n",
    "$$"
   ]
  },
  {
   "cell_type": "code",
   "execution_count": 10,
   "metadata": {},
   "outputs": [],
   "source": [
    "# assuming that L can charge between 2 and 9 non-inclusive\n",
    "\n",
    "L_prices = np.linspace(2.01, 8.99, 700)"
   ]
  },
  {
   "cell_type": "code",
   "execution_count": 12,
   "metadata": {},
   "outputs": [],
   "source": [
    "# assuming that H can charge between 5 and 11 non-inclusive\n",
    "\n",
    "H_prices = np.linspace(5.01, 10.99, 700)"
   ]
  },
  {
   "cell_type": "code",
   "execution_count": 16,
   "metadata": {},
   "outputs": [],
   "source": [
    "def tot_profit(lprice, hprice):\n",
    "    q = 500000 / (lprice + hprice)**3\n",
    "\n",
    "    return (lprice-2)*q + (hprice-5)*q"
   ]
  },
  {
   "cell_type": "code",
   "execution_count": 17,
   "metadata": {},
   "outputs": [
    {
     "data": {
      "text/plain": [
       "490000"
      ]
     },
     "execution_count": 17,
     "metadata": {},
     "output_type": "execute_result"
    }
   ],
   "source": [
    "700 * 700"
   ]
  },
  {
   "cell_type": "code",
   "execution_count": 24,
   "metadata": {},
   "outputs": [],
   "source": [
    "all_comb_prices = list(itertools.product(L_prices, H_prices))"
   ]
  },
  {
   "cell_type": "code",
   "execution_count": 25,
   "metadata": {},
   "outputs": [],
   "source": [
    "df = pd.DataFrame({\"L_prices\": [x[0] for x in all_comb_prices], \"H_prices\": [x[1] for x in all_comb_prices]})"
   ]
  },
  {
   "cell_type": "code",
   "execution_count": 27,
   "metadata": {},
   "outputs": [],
   "source": [
    "df[\"tot_profit\"] = df.apply(lambda r: tot_profit(r.L_prices, r.H_prices), axis=1)"
   ]
  },
  {
   "cell_type": "code",
   "execution_count": 28,
   "metadata": {},
   "outputs": [
    {
     "data": {
      "text/html": [
       "<div>\n",
       "<style scoped>\n",
       "    .dataframe tbody tr th:only-of-type {\n",
       "        vertical-align: middle;\n",
       "    }\n",
       "\n",
       "    .dataframe tbody tr th {\n",
       "        vertical-align: top;\n",
       "    }\n",
       "\n",
       "    .dataframe thead th {\n",
       "        text-align: right;\n",
       "    }\n",
       "</style>\n",
       "<table border=\"1\" class=\"dataframe\">\n",
       "  <thead>\n",
       "    <tr style=\"text-align: right;\">\n",
       "      <th></th>\n",
       "      <th>L_prices</th>\n",
       "      <th>H_prices</th>\n",
       "      <th>tot_profit</th>\n",
       "    </tr>\n",
       "  </thead>\n",
       "  <tbody>\n",
       "    <tr>\n",
       "      <td>0</td>\n",
       "      <td>2.01</td>\n",
       "      <td>5.010000</td>\n",
       "      <td>28.906044</td>\n",
       "    </tr>\n",
       "    <tr>\n",
       "      <td>1</td>\n",
       "      <td>2.01</td>\n",
       "      <td>5.018555</td>\n",
       "      <td>41.120199</td>\n",
       "    </tr>\n",
       "    <tr>\n",
       "      <td>2</td>\n",
       "      <td>2.01</td>\n",
       "      <td>5.027110</td>\n",
       "      <td>53.245113</td>\n",
       "    </tr>\n",
       "    <tr>\n",
       "      <td>3</td>\n",
       "      <td>2.01</td>\n",
       "      <td>5.035665</td>\n",
       "      <td>65.281436</td>\n",
       "    </tr>\n",
       "    <tr>\n",
       "      <td>4</td>\n",
       "      <td>2.01</td>\n",
       "      <td>5.044220</td>\n",
       "      <td>77.229813</td>\n",
       "    </tr>\n",
       "  </tbody>\n",
       "</table>\n",
       "</div>"
      ],
      "text/plain": [
       "   L_prices  H_prices  tot_profit\n",
       "0      2.01  5.010000   28.906044\n",
       "1      2.01  5.018555   41.120199\n",
       "2      2.01  5.027110   53.245113\n",
       "3      2.01  5.035665   65.281436\n",
       "4      2.01  5.044220   77.229813"
      ]
     },
     "execution_count": 28,
     "metadata": {},
     "output_type": "execute_result"
    }
   ],
   "source": [
    "df.head()"
   ]
  },
  {
   "cell_type": "code",
   "execution_count": 29,
   "metadata": {},
   "outputs": [
    {
     "data": {
      "text/html": [
       "<div>\n",
       "<style scoped>\n",
       "    .dataframe tbody tr th:only-of-type {\n",
       "        vertical-align: middle;\n",
       "    }\n",
       "\n",
       "    .dataframe tbody tr th {\n",
       "        vertical-align: top;\n",
       "    }\n",
       "\n",
       "    .dataframe thead th {\n",
       "        text-align: right;\n",
       "    }\n",
       "</style>\n",
       "<table border=\"1\" class=\"dataframe\">\n",
       "  <thead>\n",
       "    <tr style=\"text-align: right;\">\n",
       "      <th></th>\n",
       "      <th>L_prices</th>\n",
       "      <th>H_prices</th>\n",
       "      <th>tot_profit</th>\n",
       "    </tr>\n",
       "  </thead>\n",
       "  <tbody>\n",
       "    <tr>\n",
       "      <td>count</td>\n",
       "      <td>490000.000000</td>\n",
       "      <td>490000.000000</td>\n",
       "      <td>490000.000000</td>\n",
       "    </tr>\n",
       "    <tr>\n",
       "      <td>mean</td>\n",
       "      <td>5.500000</td>\n",
       "      <td>8.000000</td>\n",
       "      <td>1269.346347</td>\n",
       "    </tr>\n",
       "    <tr>\n",
       "      <td>std</td>\n",
       "      <td>2.017835</td>\n",
       "      <td>1.728747</td>\n",
       "      <td>190.449681</td>\n",
       "    </tr>\n",
       "    <tr>\n",
       "      <td>min</td>\n",
       "      <td>2.010000</td>\n",
       "      <td>5.010000</td>\n",
       "      <td>28.906044</td>\n",
       "    </tr>\n",
       "    <tr>\n",
       "      <td>25%</td>\n",
       "      <td>3.755000</td>\n",
       "      <td>6.505000</td>\n",
       "      <td>1132.885616</td>\n",
       "    </tr>\n",
       "    <tr>\n",
       "      <td>50%</td>\n",
       "      <td>5.500000</td>\n",
       "      <td>8.000000</td>\n",
       "      <td>1298.688340</td>\n",
       "    </tr>\n",
       "    <tr>\n",
       "      <td>75%</td>\n",
       "      <td>7.245000</td>\n",
       "      <td>9.495000</td>\n",
       "      <td>1436.045035</td>\n",
       "    </tr>\n",
       "    <tr>\n",
       "      <td>max</td>\n",
       "      <td>8.990000</td>\n",
       "      <td>10.990000</td>\n",
       "      <td>1511.715797</td>\n",
       "    </tr>\n",
       "  </tbody>\n",
       "</table>\n",
       "</div>"
      ],
      "text/plain": [
       "            L_prices       H_prices     tot_profit\n",
       "count  490000.000000  490000.000000  490000.000000\n",
       "mean        5.500000       8.000000    1269.346347\n",
       "std         2.017835       1.728747     190.449681\n",
       "min         2.010000       5.010000      28.906044\n",
       "25%         3.755000       6.505000    1132.885616\n",
       "50%         5.500000       8.000000    1298.688340\n",
       "75%         7.245000       9.495000    1436.045035\n",
       "max         8.990000      10.990000    1511.715797"
      ]
     },
     "execution_count": 29,
     "metadata": {},
     "output_type": "execute_result"
    }
   ],
   "source": [
    "df.describe()"
   ]
  },
  {
   "cell_type": "code",
   "execution_count": 31,
   "metadata": {},
   "outputs": [
    {
     "data": {
      "text/html": [
       "<div>\n",
       "<style scoped>\n",
       "    .dataframe tbody tr th:only-of-type {\n",
       "        vertical-align: middle;\n",
       "    }\n",
       "\n",
       "    .dataframe tbody tr th {\n",
       "        vertical-align: top;\n",
       "    }\n",
       "\n",
       "    .dataframe thead th {\n",
       "        text-align: right;\n",
       "    }\n",
       "</style>\n",
       "<table border=\"1\" class=\"dataframe\">\n",
       "  <thead>\n",
       "    <tr style=\"text-align: right;\">\n",
       "      <th></th>\n",
       "      <th>L_prices</th>\n",
       "      <th>H_prices</th>\n",
       "      <th>tot_profit</th>\n",
       "    </tr>\n",
       "  </thead>\n",
       "  <tbody>\n",
       "    <tr>\n",
       "      <td>124799</td>\n",
       "      <td>3.787454</td>\n",
       "      <td>6.712461</td>\n",
       "      <td>1511.715797</td>\n",
       "    </tr>\n",
       "    <tr>\n",
       "      <td>128992</td>\n",
       "      <td>3.847368</td>\n",
       "      <td>6.652575</td>\n",
       "      <td>1511.715797</td>\n",
       "    </tr>\n",
       "    <tr>\n",
       "      <td>133185</td>\n",
       "      <td>3.907282</td>\n",
       "      <td>6.592690</td>\n",
       "      <td>1511.715797</td>\n",
       "    </tr>\n",
       "    <tr>\n",
       "      <td>137378</td>\n",
       "      <td>3.967196</td>\n",
       "      <td>6.532804</td>\n",
       "      <td>1511.715797</td>\n",
       "    </tr>\n",
       "    <tr>\n",
       "      <td>141571</td>\n",
       "      <td>4.027110</td>\n",
       "      <td>6.472918</td>\n",
       "      <td>1511.715797</td>\n",
       "    </tr>\n",
       "    <tr>\n",
       "      <td>145764</td>\n",
       "      <td>4.087024</td>\n",
       "      <td>6.413033</td>\n",
       "      <td>1511.715797</td>\n",
       "    </tr>\n",
       "    <tr>\n",
       "      <td>149957</td>\n",
       "      <td>4.146938</td>\n",
       "      <td>6.353147</td>\n",
       "      <td>1511.715797</td>\n",
       "    </tr>\n",
       "  </tbody>\n",
       "</table>\n",
       "</div>"
      ],
      "text/plain": [
       "        L_prices  H_prices   tot_profit\n",
       "124799  3.787454  6.712461  1511.715797\n",
       "128992  3.847368  6.652575  1511.715797\n",
       "133185  3.907282  6.592690  1511.715797\n",
       "137378  3.967196  6.532804  1511.715797\n",
       "141571  4.027110  6.472918  1511.715797\n",
       "145764  4.087024  6.413033  1511.715797\n",
       "149957  4.146938  6.353147  1511.715797"
      ]
     },
     "execution_count": 31,
     "metadata": {},
     "output_type": "execute_result"
    }
   ],
   "source": [
    "df.loc[df.tot_profit >= 1511.715797]"
   ]
  },
  {
   "cell_type": "code",
   "execution_count": 34,
   "metadata": {},
   "outputs": [],
   "source": [
    "# some scenarios"
   ]
  },
  {
   "cell_type": "code",
   "execution_count": 37,
   "metadata": {},
   "outputs": [
    {
     "data": {
      "text/plain": [
       "469.7781118935752"
      ]
     },
     "execution_count": 37,
     "metadata": {},
     "output_type": "execute_result"
    }
   ],
   "source": [
    "500000 / (6.72 + 3.49)**3"
   ]
  },
  {
   "cell_type": "code",
   "execution_count": 38,
   "metadata": {},
   "outputs": [
    {
     "data": {
      "text/plain": [
       "806.6799999999998"
      ]
     },
     "execution_count": 38,
     "metadata": {},
     "output_type": "execute_result"
    }
   ],
   "source": [
    "(6.72-5) * 469"
   ]
  },
  {
   "cell_type": "code",
   "execution_count": 39,
   "metadata": {},
   "outputs": [
    {
     "data": {
      "text/plain": [
       "243.5192809174091"
      ]
     },
     "execution_count": 39,
     "metadata": {},
     "output_type": "execute_result"
    }
   ],
   "source": [
    "500000 / (7.72 + 4.99)**3"
   ]
  },
  {
   "cell_type": "code",
   "execution_count": 40,
   "metadata": {},
   "outputs": [
    {
     "data": {
      "text/plain": [
       "662.3743999999999"
      ]
     },
     "execution_count": 40,
     "metadata": {},
     "output_type": "execute_result"
    }
   ],
   "source": [
    "(7.72-5) * 243.52"
   ]
  },
  {
   "cell_type": "code",
   "execution_count": 41,
   "metadata": {},
   "outputs": [
    {
     "data": {
      "text/plain": [
       "243.5192809174091"
      ]
     },
     "execution_count": 41,
     "metadata": {},
     "output_type": "execute_result"
    }
   ],
   "source": [
    "500000 / (7.22 + 5.49)**3"
   ]
  },
  {
   "cell_type": "code",
   "execution_count": 42,
   "metadata": {},
   "outputs": [
    {
     "data": {
      "text/plain": [
       "540.6143999999999"
      ]
     },
     "execution_count": 42,
     "metadata": {},
     "output_type": "execute_result"
    }
   ],
   "source": [
    "(7.22-5) * 243.52"
   ]
  },
  {
   "cell_type": "code",
   "execution_count": null,
   "metadata": {},
   "outputs": [],
   "source": []
  }
 ],
 "metadata": {
  "kernelspec": {
   "display_name": "Python 3",
   "language": "python",
   "name": "python3"
  },
  "language_info": {
   "codemirror_mode": {
    "name": "ipython",
    "version": 3
   },
   "file_extension": ".py",
   "mimetype": "text/x-python",
   "name": "python",
   "nbconvert_exporter": "python",
   "pygments_lexer": "ipython3",
   "version": "3.7.3"
  }
 },
 "nbformat": 4,
 "nbformat_minor": 2
}
